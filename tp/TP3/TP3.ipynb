{
 "cells": [
  {
   "cell_type": "markdown",
   "metadata": {},
   "source": [
    "# TP 3 : SVM"
   ]
  },
  {
   "cell_type": "markdown",
   "metadata": {},
   "source": [
    "## 0 - Introduction\n",
    "\n",
    "L'objectif de ce premier TP est d'étudier le fonction des SVM.\n",
    "Il sera à réaliser en python 3. Les librairies utilisées sont installées sur les machines de l'université et de l'Ensicaen, vous pouvez néanmoins les installer sur vos propres machines à l'aide de l'utilitaire pip présent par défaut avec python.\n",
    "\t\n",
    "N'hésitez pas à regarder régulièrement la documentation de ces librairies, des exemples d'utilisation accompagnent généralement l'explication de chaque fonction.\n",
    "\n",
    "\n",
    "Langage utilisé:\n",
    "- Python 3: https://docs.python.org/3/\n",
    "\n",
    "Librairie de math:\n",
    "- Numpy: https://docs.scipy.org/doc/numpy/reference/\n",
    "- Scipy: https://docs.scipy.org/doc/scipy/reference/\n",
    "\n",
    "Librairie d'affichage de données:\n",
    "- Matplotilb: https://matplotlib.org/contents.html\n",
    "\n",
    "Librairie de traitement d'image:\n",
    "- Scikit-image: https://scikit-image.org/\n",
    "\n",
    "Librairie d'apprentissage automatique:\n",
    "- Scikit-learn: http://scikit-learn.org\n",
    "\n",
    "**Afin d'avoir un code optimisé, vous éviterez d'utiliser les instructions python3 `if`, `for` et `while` (sauf mention contraire dans le sujet).**"
   ]
  },
  {
   "cell_type": "code",
   "execution_count": null,
   "metadata": {},
   "outputs": [],
   "source": [
    "#Ce bloc contient tous les imports nécessaires pour ce TP.\n",
    "\n",
    "# import de fonctions mathématiques\n",
    "import numpy as np\n",
    "import scipy as sc\n",
    "\n",
    "# import fonction d'affichage\n",
    "import matplotlib\n",
    "import matplotlib.pyplot as plt\n",
    "\n",
    "\n",
    "# import librairies d'apprentissage automatique\n",
    "import sklearn as skl\n",
    "import sklearn.datasets as data\n",
    "import sklearn.model_selection\n",
    "import sklearn.svm\n",
    "\n",
    "#Gestion des fichiers csv\n",
    "import csv"
   ]
  },
  {
   "cell_type": "markdown",
   "metadata": {},
   "source": [
    "Afin de vous guider dans la détection d'erreur dans votre code. Nous avons introduit des blocs de tests. Il n'est pas nécessaire que vous compreniez en détail le code de ces blocs. Vous devez uniquement les exécuter et corriger les erreurs de votre code si un des tests n'est pas valide. Il est important de noter que le fait de valider le test ne garantit pas que votre code ne contient pas d'erreur. Par contre un test non validé implique nécessairement que votre code contient une erreur.\n",
    "\n",
    "- Si tout les tests sont valides, vous aurez un message écrit en vert indiquant : Ok - Tous les tests sont validés.\n",
    "- Si un des tests n'est pas valide, vous aurez un message écrit en rouge indiquant : Au moins un test n'est pas validé.\n",
    "- Pour les tests non valides, vous aurez des éléments d'information sur le test non valide. En particulier, un message écrit en jaune vous détaillera la nature du test échoué."
   ]
  },
  {
   "cell_type": "markdown",
   "metadata": {},
   "source": [
    "Voici un exemple d'utilisation. Le bloc suivant est censé contenir l'affectation de la valeur 42 à la variable `a`. Le bloc de test d'après vérifie que vous avez correctement effectué l'affectation. Exécutez les deux blocs avec des valeurs de `a` correcte et incorrecte.\n",
    "Vous devez supprimer la ligne `raise NotImplementedError()` qui indique que vous n'avez pas encore fait l'implémentation."
   ]
  },
  {
   "cell_type": "code",
   "execution_count": null,
   "metadata": {
    "deletable": false,
    "nbgrader": {
     "cell_type": "code",
     "checksum": "b3c21025d799c61c10270c9219d3923a",
     "grade": false,
     "grade_id": "cell-88522573cd72301b",
     "locked": false,
     "schema_version": 3,
     "solution": true,
     "task": false
    }
   },
   "outputs": [],
   "source": [
    "# YOUR CODE HERE\n",
    "raise NotImplementedError()"
   ]
  },
  {
   "cell_type": "code",
   "execution_count": null,
   "metadata": {
    "deletable": false,
    "editable": false,
    "nbgrader": {
     "cell_type": "code",
     "checksum": "b26746dd6374745a5ab6e5d40cd72cd2",
     "grade": true,
     "grade_id": "cell-4e42165ad95b4d7d",
     "locked": true,
     "points": 0,
     "schema_version": 3,
     "solution": false,
     "task": false
    }
   },
   "outputs": [],
   "source": [
    "# Ce bloc permet de valider votre code. Vous ne devez pas le modifier.  \n",
    "try:\n",
    "    np.testing.assert_equal(a,42,err_msg=\"\\033[93m {}\\033[00m\" .format('Test 1 : a n\\'est pas égale à 42. Vérifiez que a==42'))\n",
    "except Exception as e: \n",
    "    print(\"\\033[91m {}\\033[00m\" .format('KO - Au moins un test n\\'est pas validé')) \n",
    "    print('Information sur le test non valide:')\n",
    "    print(e)\n",
    "    raise e\n",
    "else:\n",
    "    print(\"\\033[92m {}\\033[00m\" .format('Ok - Tous les tests sont validés.')) "
   ]
  },
  {
   "cell_type": "markdown",
   "metadata": {},
   "source": [
    "## 1 - Récupération des données d'apprentissage et de test\n"
   ]
  },
  {
   "cell_type": "markdown",
   "metadata": {},
   "source": [
    "Nous  allons  travailler  sur  des  donnees  d’apprentissage  reparties  en  deux  classes  non  lineairement séparables. Ces données sont dans le fichier `data2D.csv` disponible sur le moodle du cours. Chaque ligne de ce fichier comporte trois valeurs : des coordonnées bidimensionnelles et la classe (0 ou 1). Pour charger les données nous procéderons ainsi :"
   ]
  },
  {
   "cell_type": "code",
   "execution_count": null,
   "metadata": {
    "deletable": false,
    "editable": false,
    "nbgrader": {
     "cell_type": "code",
     "checksum": "5a82e0246d8f64fbe40233628ed8434b",
     "grade": false,
     "grade_id": "cell-44d38a6444601c90",
     "locked": true,
     "schema_version": 3,
     "solution": false,
     "task": false
    }
   },
   "outputs": [],
   "source": [
    "def lireCSV(fichier):\n",
    "    data = []\n",
    "    with open(fichier, 'r') as csvfile:\n",
    "        spamreader = csv.reader(csvfile, delimiter=',', quotechar='|')\n",
    "        tmp =[]\n",
    "        for row in spamreader:\n",
    "            tmp.append(row)\n",
    "        data.append(tmp)\n",
    "    return np.array(data[0])\n",
    "\n",
    "data = lireCSV('data2D.csv')\n",
    "\n",
    "X = data[:,:2].astype(np.float64)\n",
    "y = data[:,2].astype(np.int32)"
   ]
  },
  {
   "cell_type": "markdown",
   "metadata": {},
   "source": [
    "Affichez les données en utilisant une couleur différente pour chaque classe."
   ]
  },
  {
   "cell_type": "code",
   "execution_count": null,
   "metadata": {
    "deletable": false,
    "nbgrader": {
     "cell_type": "code",
     "checksum": "ac0278af438823c5177b053eca9848c2",
     "grade": true,
     "grade_id": "cell-b18faf16fa79c4b8",
     "locked": false,
     "points": 1,
     "schema_version": 3,
     "solution": true,
     "task": false
    }
   },
   "outputs": [],
   "source": [
    "# YOUR CODE HERE\n",
    "raise NotImplementedError()"
   ]
  },
  {
   "cell_type": "markdown",
   "metadata": {},
   "source": [
    "En utilisant la fonction `train_test_split` de `scikit-learn` ( https://scikit-learn.org/stable/modules/generated/sklearn.model_selection.train_test_split.html ) découpez les données en deux ensembles (train et val).\n",
    "Vous utiliserez 40% des données pour test. Vous nommerez les données `X_train` et `X_test` et les labels `y_train` et `y_test`."
   ]
  },
  {
   "cell_type": "code",
   "execution_count": null,
   "metadata": {
    "deletable": false,
    "nbgrader": {
     "cell_type": "code",
     "checksum": "5a0c248b3ee8cad2d42194971c8157aa",
     "grade": false,
     "grade_id": "cell-fd7b5a23f9228caa",
     "locked": false,
     "schema_version": 3,
     "solution": true,
     "task": false
    }
   },
   "outputs": [],
   "source": [
    "# YOUR CODE HERE\n",
    "raise NotImplementedError()"
   ]
  },
  {
   "cell_type": "code",
   "execution_count": null,
   "metadata": {
    "deletable": false,
    "editable": false,
    "nbgrader": {
     "cell_type": "code",
     "checksum": "0f5ce5ddeef7c45439edef2be9a1a056",
     "grade": true,
     "grade_id": "cell-39aeb39d1a6412eb",
     "locked": true,
     "points": 1,
     "schema_version": 3,
     "solution": false,
     "task": false
    }
   },
   "outputs": [],
   "source": [
    "# Ce bloc permet de valider votre code. Vous ne devez pas le modifier.  \n",
    "try:\n",
    "    np.testing.assert_equal(X_train.shape[0]+X_test.shape[0],X.shape[0],err_msg=\"\\033[93m {}\\033[00m\" .format('Test 1 : Certains exemples ne sont utilisé ni dans Train ni dans Test.'))\n",
    "    np.testing.assert_equal(X_test.shape[0],X.shape[0]*.4,err_msg=\"\\033[93m {}\\033[00m\" .format('Test 2 : La proportion des exemples utilisés pour Test n\\'est pas correct.'))\n",
    "    np.testing.assert_equal(X_test.shape[1],2,err_msg=\"\\033[93m {}\\033[00m\" .format('Test 3 : Il manque des dimensions aux exemples de Test.'))\n",
    "    np.testing.assert_equal(y_train.dtype,np.int32,err_msg=\"\\033[93m {}\\033[00m\" .format('Test 4 : Les labels d\\'entrainement doivent être des entiers.'))\n",
    "    np.testing.assert_equal(y_test.dtype,np.int32,err_msg=\"\\033[93m {}\\033[00m\" .format('Test 5 : Les labels de test doivent être des entiers.'))\n",
    "except Exception as e: \n",
    "    print(\"\\033[91m {}\\033[00m\" .format('KO - Au moins un test n\\'est pas validé')) \n",
    "    print('Information sur le test non valide:')\n",
    "    print(e)\n",
    "    raise e\n",
    "else:\n",
    "    print(\"\\033[92m {}\\033[00m\" .format('Ok - Tous les tests sont validés.')) \n",
    "    "
   ]
  },
  {
   "cell_type": "markdown",
   "metadata": {},
   "source": [
    "Affichez sur une même figure les données d'apprentissage et de test. Vous utiliserez une couleur différente par classe et un marker différent pour train et test."
   ]
  },
  {
   "cell_type": "code",
   "execution_count": null,
   "metadata": {
    "deletable": false,
    "nbgrader": {
     "cell_type": "code",
     "checksum": "ad7cee9a8547a08a25512be346eb02f1",
     "grade": true,
     "grade_id": "cell-3a2f7d252d7f1326",
     "locked": false,
     "points": 1,
     "schema_version": 3,
     "solution": true,
     "task": false
    }
   },
   "outputs": [],
   "source": [
    "# YOUR CODE HERE\n",
    "raise NotImplementedError()"
   ]
  },
  {
   "cell_type": "markdown",
   "metadata": {},
   "source": [
    "## 2 - SVM à l'aide de Scikit-learn \n"
   ]
  },
  {
   "cell_type": "markdown",
   "metadata": {},
   "source": [
    "Nous utiliseron dans cette partie les fonctions de la librairie `scikit-learn` pour l'utilisation des SVM. Les fonctions de la librairie exploitent eux même une autre librairie écrite en C appelé `libSVM`.\n",
    "\n",
    "Nous étudierons dans cette partie les différents éléments important des SVM à savoir:\n",
    "- le choix de la fonction noyau\n",
    "- le choix des paramètres associé à ce noyau (degré pour un noyau polynomail, largueur de bande pour un noyau Gausien...)\n",
    "- le choix des paramètres de régularisations.\n",
    "\n",
    "Pour plus d'information sur l'utilisation des SVM dans `scikit-learn`, vous pouvez vous référer à la documentation : https://scikit-learn.org/stable/modules/svm.html"
   ]
  },
  {
   "cell_type": "markdown",
   "metadata": {},
   "source": [
    "### 2.1 - SVM polynomial par défaut\n"
   ]
  },
  {
   "cell_type": "markdown",
   "metadata": {},
   "source": [
    "En vous basant sur la documentation ( https://scikit-learn.org/stable/modules/generated/sklearn.svm.SVC.html#sklearn.svm.SVC ), apprenez un SVM à noyau polynomial sur les données d'apprentissage que vous nommerez `clf_poly`."
   ]
  },
  {
   "cell_type": "code",
   "execution_count": null,
   "metadata": {
    "deletable": false,
    "nbgrader": {
     "cell_type": "code",
     "checksum": "996029944ace6ebcb70d05f0baff4d1e",
     "grade": false,
     "grade_id": "cell-9d99bf9675eee9de",
     "locked": false,
     "schema_version": 3,
     "solution": true,
     "task": false
    }
   },
   "outputs": [],
   "source": [
    "# YOUR CODE HERE\n",
    "raise NotImplementedError()"
   ]
  },
  {
   "cell_type": "code",
   "execution_count": null,
   "metadata": {
    "deletable": false,
    "editable": false,
    "nbgrader": {
     "cell_type": "code",
     "checksum": "32c6ba96233774c6a1e02ea519414075",
     "grade": true,
     "grade_id": "cell-126cecae925ffdd4",
     "locked": true,
     "points": 1,
     "schema_version": 3,
     "solution": false,
     "task": false
    }
   },
   "outputs": [],
   "source": [
    "\n",
    "# Ce bloc permet de valider votre code. Vous ne devez pas le modifier.  \n",
    "try:\n",
    "    np.testing.assert_equal(type(clf_poly),skl.svm._classes.SVC,err_msg=\"\\033[93m {}\\033[00m\" .format('Test 1 : Le type de clf_poly est incorrect.'))\n",
    "    try:\n",
    "        assert 'support_' in clf_poly.__dict__\n",
    "    except Exception as e:\n",
    "        raise AssertionError(\"\\033[93m {}\\033[00m\" .format('Test 2 : Vous n\\'avez pas appris clf_poly.'))\n",
    "except Exception as e: \n",
    "    print(\"\\033[91m {}\\033[00m\" .format('KO - Au moins un test n\\'est pas validé')) \n",
    "    print('Information sur le test non valide:')\n",
    "    print(e)\n",
    "    raise e\n",
    "else:\n",
    "    print(\"\\033[92m {}\\033[00m\" .format('Ok - Tous les tests sont validés.')) "
   ]
  },
  {
   "cell_type": "markdown",
   "metadata": {},
   "source": [
    "En utilisant un code similaire au TP2, affichez avec deux couleurs différentes les zones associés à chaque classe retournée par le classifieur que vous venez d'apprendre."
   ]
  },
  {
   "cell_type": "code",
   "execution_count": null,
   "metadata": {
    "deletable": false,
    "nbgrader": {
     "cell_type": "code",
     "checksum": "8063fe34c76ac0c8514410ad9ffba463",
     "grade": true,
     "grade_id": "cell-b54d9aae574e9f9b",
     "locked": false,
     "points": 1,
     "schema_version": 3,
     "solution": true,
     "task": false
    }
   },
   "outputs": [],
   "source": [
    "# YOUR CODE HERE\n",
    "raise NotImplementedError()"
   ]
  },
  {
   "cell_type": "markdown",
   "metadata": {},
   "source": [
    "En utilisant la fonction `classification_report` ( https://scikit-learn.org/stable/modules/generated/sklearn.metrics.classification_report.html ) de `scikit_learn`, affichez les performances du classifieurs sur la base de test."
   ]
  },
  {
   "cell_type": "code",
   "execution_count": null,
   "metadata": {
    "deletable": false,
    "nbgrader": {
     "cell_type": "code",
     "checksum": "94ba275c0d6e1bf26d432906e34c00c1",
     "grade": true,
     "grade_id": "cell-718902294bec4a23",
     "locked": false,
     "points": 1,
     "schema_version": 3,
     "solution": true,
     "task": false
    }
   },
   "outputs": [],
   "source": [
    "# YOUR CODE HERE\n",
    "raise NotImplementedError()"
   ]
  },
  {
   "cell_type": "markdown",
   "metadata": {},
   "source": [
    "### 2.2 Influence du degré du polynomial pour un SVM polynomial"
   ]
  },
  {
   "cell_type": "markdown",
   "metadata": {},
   "source": [
    "Faites varier le degrée du polynôme utilisé pour la fonction noyau entre 1 et 30 (en prenant une valeur sur 3) et visualisez le changement dans la fonction apprise."
   ]
  },
  {
   "cell_type": "code",
   "execution_count": null,
   "metadata": {
    "deletable": false,
    "nbgrader": {
     "cell_type": "code",
     "checksum": "20a69d8659e83c82f68ecee6f0deb581",
     "grade": true,
     "grade_id": "cell-895492df6f8ebec8",
     "locked": false,
     "points": 1,
     "schema_version": 3,
     "solution": true,
     "task": false
    }
   },
   "outputs": [],
   "source": [
    "# YOUR CODE HERE\n",
    "raise NotImplementedError()"
   ]
  },
  {
   "cell_type": "markdown",
   "metadata": {},
   "source": [
    "### 2.3 Influence du paramètre de régularisation sur un SVM polynomial"
   ]
  },
  {
   "cell_type": "markdown",
   "metadata": {},
   "source": [
    "Apprenez des classifieurs polynomiaux de degré 2 avec un paramètre de régularisation variant de 0.001 à 100 pour chaque puissance de 10."
   ]
  },
  {
   "cell_type": "code",
   "execution_count": null,
   "metadata": {
    "deletable": false,
    "nbgrader": {
     "cell_type": "code",
     "checksum": "2ddebba52a9829d708f1a010e5c9d1aa",
     "grade": true,
     "grade_id": "cell-1dd10dc4c35cb404",
     "locked": false,
     "points": 1,
     "schema_version": 3,
     "solution": true,
     "task": false
    }
   },
   "outputs": [],
   "source": [
    "# YOUR CODE HERE\n",
    "raise NotImplementedError()"
   ]
  },
  {
   "cell_type": "markdown",
   "metadata": {},
   "source": [
    "### 2.4 SVM avec d'autres noyaux"
   ]
  },
  {
   "cell_type": "markdown",
   "metadata": {},
   "source": [
    "Comparez les résultats de classification en changeant de noyau. Vous testerez notamment le noyau linéaire et le noyau gaussien."
   ]
  },
  {
   "cell_type": "code",
   "execution_count": null,
   "metadata": {
    "deletable": false,
    "nbgrader": {
     "cell_type": "code",
     "checksum": "b79e73e64b45afe4db533d10ed55b082",
     "grade": true,
     "grade_id": "cell-0e133e42174d26af",
     "locked": false,
     "points": 1,
     "schema_version": 3,
     "solution": true,
     "task": false
    }
   },
   "outputs": [],
   "source": [
    "# YOUR CODE HERE\n",
    "raise NotImplementedError()"
   ]
  },
  {
   "cell_type": "markdown",
   "metadata": {},
   "source": [
    "### 2.5 La validation croisée"
   ]
  },
  {
   "cell_type": "markdown",
   "metadata": {},
   "source": [
    "Le nombre de paramètres à explorer est potentiellement important et il n'est pas toujours évident de connaiter les meilleurs combinaisons à utiliser pour un problème donné. `Scikit-learrn` met à disposition plusieurs solution pour explorer les paramètres possibles et calculer les performances finales. Vous retrouverez ces information à l'adresse: https://scikit-learn.org/stable/model_selection.html .\n",
    "Nous allons dans cette partie, nous concentrer plus particulièrement sur la validation croisée: https://scikit-learn.org/stable/modules/cross_validation.html .\n",
    "Commencez par lire en détail la documentation."
   ]
  },
  {
   "cell_type": "markdown",
   "metadata": {},
   "source": [
    "À l'aide de la classe `GridSearchCV` https://scikit-learn.org/stable/modules/generated/sklearn.model_selection.GridSearchCV.html , trouvez les meilleurs paramètres parmi les configurations suivantes pour une fonction de coût de type `accuracy`:\n",
    "- Noyaux gaussiens avec gamma parmi [$10^{-1},10^{-2},10^{-3}$] et C parmi [$0.1,1,10,100$],\n",
    "- Noyaux polynomial de degré 1, 2 ou 3; décalage 0.1,1 ou 10 ;  C parmi [$0.1,1,10,100$]."
   ]
  },
  {
   "cell_type": "code",
   "execution_count": null,
   "metadata": {
    "deletable": false,
    "nbgrader": {
     "cell_type": "code",
     "checksum": "65830b68c5324c7a3af49ba85352b67d",
     "grade": true,
     "grade_id": "cell-ece71733a01e91e1",
     "locked": false,
     "points": 1,
     "schema_version": 3,
     "solution": true,
     "task": false
    }
   },
   "outputs": [],
   "source": [
    "# YOUR CODE HERE\n",
    "raise NotImplementedError()"
   ]
  },
  {
   "cell_type": "markdown",
   "metadata": {},
   "source": [
    " Calculez les performances de classification de la meilleur solution et  affichez la frontière de décision et les vecteurs de support de la meilleure combinaison de paramètre"
   ]
  },
  {
   "cell_type": "code",
   "execution_count": null,
   "metadata": {
    "deletable": false,
    "nbgrader": {
     "cell_type": "code",
     "checksum": "822481422bff1b185d93a77bde8f31ef",
     "grade": true,
     "grade_id": "cell-b772a9014680a089",
     "locked": false,
     "points": 1,
     "schema_version": 3,
     "solution": true,
     "task": false
    }
   },
   "outputs": [],
   "source": [
    "# YOUR CODE HERE\n",
    "raise NotImplementedError()"
   ]
  },
  {
   "cell_type": "markdown",
   "metadata": {},
   "source": [
    "## 3 - SVM à l'aide de l'algorithme SMO\n"
   ]
  },
  {
   "cell_type": "markdown",
   "metadata": {},
   "source": [
    "Nous allons dans cette partie faire une implémentation simplifiée de l'algorithme SMO (Sequential minimal optimization) pour la résolution d'un SVM dans le dual. L'algorithème SMO est un algorithme itératif. À chaque itération deux multiplicateurs de lagrange $\\alpha_i$ et $\\alpha_j$ sont choisis et optimisés sur la fonction de coût du SVM. Les nouvelles valeurs $\\alpha'_i$ et $\\alpha'_j$ sont choisies de manière à satisfaire $y_1\\alpha'_1+y_2\\alpha'_2= y_1\\alpha_1+y_2\\alpha_2 = cst$ afin de respecter la contrainte $\\sum_i \\alpha_i y_i = 0$."
   ]
  },
  {
   "cell_type": "markdown",
   "metadata": {},
   "source": [
    "Nous nous appuierons dans cette partie sur la solution proposée dans le livre *Machine Learning in action* de Peter Harrigton, édition Manning."
   ]
  },
  {
   "cell_type": "markdown",
   "metadata": {},
   "source": [
    "Les labels précédement utilisés sont 0 ou 1. Définissez `y_train2` et `y_test2` correspondant aux labels ramenené au valeurs -1 et 1. Dans la suite de cette partie, nous utiliserons uniquement ces nouvelles variables."
   ]
  },
  {
   "cell_type": "code",
   "execution_count": null,
   "metadata": {
    "deletable": false,
    "nbgrader": {
     "cell_type": "code",
     "checksum": "68fb07656f41e90f9458cdae80813418",
     "grade": false,
     "grade_id": "cell-1e01650238050014",
     "locked": false,
     "schema_version": 3,
     "solution": true,
     "task": false
    }
   },
   "outputs": [],
   "source": [
    "# Ensemble de tous les labels entre -1 et 1:\n",
    "y2 = y*2-1\n",
    "# YOUR CODE HERE\n",
    "raise NotImplementedError()"
   ]
  },
  {
   "cell_type": "code",
   "execution_count": null,
   "metadata": {
    "deletable": false,
    "editable": false,
    "nbgrader": {
     "cell_type": "code",
     "checksum": "411d819b46b6b4753cb8ccd3e8b57f84",
     "grade": true,
     "grade_id": "cell-ac676d6093fef145",
     "locked": true,
     "points": 1,
     "schema_version": 3,
     "solution": false,
     "task": false
    }
   },
   "outputs": [],
   "source": [
    "# Ce bloc permet de valider votre code. Vous ne devez pas le modifier.  \n",
    "try:\n",
    "    np.testing.assert_equal(len(y_train2),60,err_msg=\"\\033[93m {}\\033[00m\" .format('Test 1 : Le nombre de valeurs dans y_train2 est incorrect.'))\n",
    "    np.testing.assert_equal(len(y_test2),40,err_msg=\"\\033[93m {}\\033[00m\" .format('Test 2 : Le nombre de valeurs dans y_test2 est incorrect.'))\n",
    "    np.testing.assert_equal(y_train2.dtype,np.int32,err_msg=\"\\033[93m {}\\033[00m\" .format('Test 3 : Le type des valeurs dans y_train2 est incorrect.'))\n",
    "    np.testing.assert_equal(y_test2.dtype,np.int32,err_msg=\"\\033[93m {}\\033[00m\" .format('Test 4 : Le type des valeurs dans y_test2 est incorrect.'))\n",
    "    np.testing.assert_equal(np.min(y_train2),-1,err_msg=\"\\033[93m {}\\033[00m\" .format('Test 5 : Les valeurs minimal de y_train2 doivent être -1.'))\n",
    "    np.testing.assert_equal(np.min(y_test2 ),-1,err_msg=\"\\033[93m {}\\033[00m\" .format('Test 6 : Les valeurs minimal de y_test2 doivent être -1.'))\n",
    "    np.testing.assert_equal(np.max(y_train2),1,err_msg=\"\\033[93m {}\\033[00m\" .format('Test 7 : Les valeurs maximal de y_train2 doivent être 1.'))\n",
    "    np.testing.assert_equal(np.max(y_test2 ),1,err_msg=\"\\033[93m {}\\033[00m\" .format('Test 8 : Les valeurs maximal de y_test2 doivent être 1.'))\n",
    "    np.testing.assert_equal(2*y_train-y_train2,np.ones(y_train2.shape),err_msg=\"\\033[93m {}\\033[00m\" .format('Test 9 : Certaines valeurs de y_train2 sont fausses.'))\n",
    "except Exception as e: \n",
    "    print(\"\\033[91m {}\\033[00m\" .format('KO - Au moins un test n\\'est pas validé')) \n",
    "    print('Information sur le test non valide:')\n",
    "    print(e)\n",
    "    raise e\n",
    "else:\n",
    "    print(\"\\033[92m {}\\033[00m\" .format('Ok - Tous les tests sont validés.')) "
   ]
  },
  {
   "cell_type": "markdown",
   "metadata": {},
   "source": [
    "Écrivez une fonction qui tire un entier entre 0 et n (non compris) sauf le nombre j. Pour faire cela vous tirez un entier entre 0 et n-1 et y ajouter +1 si le nombre tiré est supérieur ou égale à j. Vous pouvez utiliser un `if` pour cette question."
   ]
  },
  {
   "cell_type": "code",
   "execution_count": null,
   "metadata": {
    "deletable": false,
    "nbgrader": {
     "cell_type": "code",
     "checksum": "64611c726fb38a7eed5db3141e5630b3",
     "grade": false,
     "grade_id": "cell-87eca405235f95c4",
     "locked": false,
     "schema_version": 3,
     "solution": true,
     "task": false
    }
   },
   "outputs": [],
   "source": [
    "def tirage_without(n,i):\n",
    "    # YOUR CODE HERE\n",
    "    raise NotImplementedError()"
   ]
  },
  {
   "cell_type": "code",
   "execution_count": null,
   "metadata": {
    "deletable": false,
    "editable": false,
    "nbgrader": {
     "cell_type": "code",
     "checksum": "381858a92ca3e37c10260d797e9ede7e",
     "grade": true,
     "grade_id": "cell-a03cc42754191f8b",
     "locked": true,
     "points": 1,
     "schema_version": 3,
     "solution": false,
     "task": false
    }
   },
   "outputs": [],
   "source": [
    "# Ce bloc permet de valider votre code. Vous ne devez pas le modifier.  \n",
    "try:\n",
    "    for i in range(1000):\n",
    "        np.testing.assert_equal(type(tirage_without(10,4)),int,\n",
    "                                err_msg=\"\\033[93m {}\\033[00m\" .format('Test 1 : Les valeurs de tirage_without doivent être entière.')\n",
    "                               )\n",
    "        np.testing.assert_array_less(tirage_without(10,4),10,\n",
    "                                err_msg=\"\\033[93m {}\\033[00m\" .format('Test 2 : Les valeurs de tirage_without doivent être entre 0 et n.')\n",
    "                               )\n",
    "        np.testing.assert_array_less(-1,tirage_without(10,4),\n",
    "                                err_msg=\"\\033[93m {}\\033[00m\" .format('Test 3 : Les valeurs de tirage_without doivent être entre 0 et n.')\n",
    "                               )\n",
    "        np.testing.assert_array_less(0.1,np.abs(tirage_without(10,4)-4),\n",
    "                                err_msg=\"\\033[93m {}\\033[00m\" .format('Test 4 : Les valeurs de tirage_without ne doivent pas contenir j.')\n",
    "                               )\n",
    "except Exception as e: \n",
    "    print(\"\\033[91m {}\\033[00m\" .format('KO - Au moins un test n\\'est pas validé')) \n",
    "    print('Information sur le test non valide:')\n",
    "    print(e)\n",
    "    raise e\n",
    "else:\n",
    "    print(\"\\033[92m {}\\033[00m\" .format('Ok - Tous les tests sont validés.')) "
   ]
  },
  {
   "cell_type": "markdown",
   "metadata": {},
   "source": [
    "Définissez une fonction `f` qui évalue un classifieur SVM avec sa forme dual. Pour rappel: $f(x) = \\sum_i \\alpha_i y_i \\langle x,x_i\\rangle$+b."
   ]
  },
  {
   "cell_type": "code",
   "execution_count": null,
   "metadata": {
    "deletable": false,
    "nbgrader": {
     "cell_type": "code",
     "checksum": "20f2da69b757631f53caf3bce420d25b",
     "grade": false,
     "grade_id": "cell-7d2a7d324a784c5a",
     "locked": false,
     "schema_version": 3,
     "solution": true,
     "task": false
    }
   },
   "outputs": [],
   "source": [
    "def f(x,v_supports,y_supports,alphas,b):\n",
    "    '''\n",
    "    Calcul le résultat d'un classifieur SVM pour des exemples.\n",
    "    :param x: exemple(s) que l'on souhaite évaluer. Chaque ligne correspond à un exemple. Dans le cas où il n'y a qu'un exemple, les dimensions sont (1,dimension du descripteur).\n",
    "    :param v_supports: exemples de la base d'apprentissage ou vecteurs supports appris\n",
    "    :param y_supports: labels des exemples d'apprentissage ou des vecteurs supports sélectionnés\n",
    "    :param alphas: poids des vecteurs supports, les valeurs peuvent être nulle si toute la base d'apprentissage est donnée.\n",
    "    :param b: paramètre de biais\n",
    "    :return: le résultat de classification pour les exemples de x. f(x) = \\sum alpha_i y_i <x_i,y> + b\n",
    "    '''\n",
    "    # YOUR CODE HERE\n",
    "    raise NotImplementedError()"
   ]
  },
  {
   "cell_type": "code",
   "execution_count": null,
   "metadata": {
    "deletable": false,
    "editable": false,
    "nbgrader": {
     "cell_type": "code",
     "checksum": "4bc2b0e5c964acb6528fa1757d1c0363",
     "grade": true,
     "grade_id": "cell-f5c62afc014a458c",
     "locked": true,
     "points": 1,
     "schema_version": 3,
     "solution": false,
     "task": false
    }
   },
   "outputs": [],
   "source": [
    "# Ce bloc permet de valider votre code. Vous ne devez pas le modifier.  \n",
    "try:\n",
    "    svm = skl.svm.SVC(kernel='linear')\n",
    "    svm.fit(X_train,y_train)\n",
    "    np.testing.assert_almost_equal(f(X_test[None,12],svm.support_vectors_,y_train2[svm.support_],np.abs(svm.dual_coef_.squeeze()),svm.intercept_),\n",
    "                            svm.decision_function(X_test[None,12]),\n",
    "                            err_msg=\"\\033[93m {}\\033[00m\" .format('Test 2 : Test de f sur l\\'exemple 12 de test incorrect.')\n",
    "                           )\n",
    "    np.testing.assert_almost_equal(f(X_test,svm.support_vectors_,y_train2[svm.support_],np.abs(svm.dual_coef_.squeeze()),svm.intercept_),\n",
    "                            svm.decision_function(X_test),\n",
    "                            err_msg=\"\\033[93m {}\\033[00m\" .format('Test 3 : Test de f sur tout les exemples de test incorrect.')\n",
    "                           )\n",
    "except Exception as e: \n",
    "    print(\"\\033[91m {}\\033[00m\" .format('KO - Au moins un test n\\'est pas validé')) \n",
    "    print('Information sur le test non valide:')\n",
    "    print(e)\n",
    "    raise e\n",
    "else:\n",
    "    print(\"\\033[92m {}\\033[00m\" .format('Ok - Tous les tests sont validés.')) "
   ]
  },
  {
   "cell_type": "markdown",
   "metadata": {},
   "source": [
    "Soit `xi` un point de la base de données (le point d'indice `i`). Calculez l'écart entre l'évaluation de `f` pour `x` et le label attendu. Vous nommerez cette valeur `Ei`."
   ]
  },
  {
   "cell_type": "code",
   "execution_count": null,
   "metadata": {
    "deletable": false,
    "nbgrader": {
     "cell_type": "code",
     "checksum": "b43882970c31b71efe4742e5ebac84ce",
     "grade": false,
     "grade_id": "cell-993ee994daabf67d",
     "locked": false,
     "schema_version": 3,
     "solution": true,
     "task": false
    }
   },
   "outputs": [],
   "source": [
    "i = 0\n",
    "\n",
    "xi = X[i]\n",
    "v_supports = np.array([[99.8278578 , 72.36925193],\n",
    "       [62.0730638 , 96.76882412],\n",
    "       [50.53478829, 48.85581153],\n",
    "       [34.21206098, 44.2095286 ],\n",
    "       [75.39561147, 85.75993667]])\n",
    "y_supports = np.array([1,1,0,0,1])\n",
    "alphas = np.array([0.3,0.2,1,0,0.8])\n",
    "b = 12\n",
    "# YOUR CODE HERE\n",
    "raise NotImplementedError()"
   ]
  },
  {
   "cell_type": "code",
   "execution_count": null,
   "metadata": {
    "deletable": false,
    "editable": false,
    "nbgrader": {
     "cell_type": "code",
     "checksum": "07f66c7d409040178dba152b63a8edf6",
     "grade": true,
     "grade_id": "cell-32d285f374a3f2c3",
     "locked": true,
     "points": 1,
     "schema_version": 3,
     "solution": false,
     "task": false
    }
   },
   "outputs": [],
   "source": [
    "# Ce bloc permet de valider votre code. Vous ne devez pas le modifier.  \n",
    "try:\n",
    "    np.testing.assert_almost_equal(Ei,12125.3009706,\n",
    "                            err_msg=\"\\033[93m {}\\033[00m\" .format('Test 1: valeur de Ei fausse.')\n",
    "                           )\n",
    "except Exception as e: \n",
    "    print(\"\\033[91m {}\\033[00m\" .format('KO - Au moins un test n\\'est pas validé')) \n",
    "    print('Information sur le test non valide:')\n",
    "    print(e)\n",
    "    raise e\n",
    "else:\n",
    "    print(\"\\033[92m {}\\033[00m\" .format('Ok - Tous les tests sont validés.')) "
   ]
  },
  {
   "cell_type": "markdown",
   "metadata": {},
   "source": [
    "Faites de même avec le `xj`. Calculez l'erreur `Ej`."
   ]
  },
  {
   "cell_type": "code",
   "execution_count": null,
   "metadata": {
    "deletable": false,
    "nbgrader": {
     "cell_type": "code",
     "checksum": "b78c7fe8faf9e6fd57476ae553c53b73",
     "grade": false,
     "grade_id": "cell-89dc2a54023d4082",
     "locked": false,
     "schema_version": 3,
     "solution": true,
     "task": false
    }
   },
   "outputs": [],
   "source": [
    "j = 2\n",
    "xj = X[j]\n",
    "\n",
    "# YOUR CODE HERE\n",
    "raise NotImplementedError()"
   ]
  },
  {
   "cell_type": "code",
   "execution_count": null,
   "metadata": {
    "deletable": false,
    "editable": false,
    "nbgrader": {
     "cell_type": "code",
     "checksum": "90b459771a2a211801f8c2b84572f10d",
     "grade": true,
     "grade_id": "cell-ceeaf8c4729a7da0",
     "locked": true,
     "points": 1,
     "schema_version": 3,
     "solution": false,
     "task": false
    }
   },
   "outputs": [],
   "source": [
    "# Ce bloc permet de valider votre code. Vous ne devez pas le modifier.  \n",
    "try:\n",
    "    np.testing.assert_almost_equal(Ej,11689.158114,\n",
    "                            err_msg=\"\\033[93m {}\\033[00m\" .format('Test 1: valeur de Ej fausse.')\n",
    "                           )\n",
    "except Exception as e: \n",
    "    print(\"\\033[91m {}\\033[00m\" .format('KO - Au moins un test n\\'est pas validé')) \n",
    "    print('Information sur le test non valide:')\n",
    "    print(e)\n",
    "    raise e\n",
    "else:\n",
    "    print(\"\\033[92m {}\\033[00m\" .format('Ok - Tous les tests sont validés.')) "
   ]
  },
  {
   "cell_type": "markdown",
   "metadata": {},
   "source": [
    "Calculez `eta` tel que $\\eta = \\|x_i-x_j\\|^2 = -2\\langle x_i,x_j \\rangle + \\|x_i\\|^2 + \\|x_j\\|^2$."
   ]
  },
  {
   "cell_type": "code",
   "execution_count": null,
   "metadata": {
    "deletable": false,
    "nbgrader": {
     "cell_type": "code",
     "checksum": "845ed66f32b94b75f43acc9ae487a671",
     "grade": false,
     "grade_id": "cell-a606542f7c7652b4",
     "locked": false,
     "schema_version": 3,
     "solution": true,
     "task": false
    }
   },
   "outputs": [],
   "source": [
    "# YOUR CODE HERE\n",
    "raise NotImplementedError()"
   ]
  },
  {
   "cell_type": "code",
   "execution_count": null,
   "metadata": {
    "deletable": false,
    "editable": false,
    "nbgrader": {
     "cell_type": "code",
     "checksum": "8a182e0f944834ae77802a932fb20d58",
     "grade": true,
     "grade_id": "cell-414b535965c1471e",
     "locked": true,
     "points": 1,
     "schema_version": 3,
     "solution": false,
     "task": false
    }
   },
   "outputs": [],
   "source": [
    "# Ce bloc permet de valider votre code. Vous ne devez pas le modifier.  \n",
    "try:\n",
    "    np.testing.assert_almost_equal(eta,27.737514826863844,significant=5,\n",
    "                            err_msg=\"\\033[93m {}\\033[00m\" .format('Test 1: valeur de eta fausse.')\n",
    "                           )\n",
    "except Exception as e: \n",
    "    print(\"\\033[91m {}\\033[00m\" .format('KO - Au moins un test n\\'est pas validé')) \n",
    "    print('Information sur le test non valide:')\n",
    "    print(e)\n",
    "    raise e\n",
    "else:\n",
    "    print(\"\\033[92m {}\\033[00m\" .format('Ok - Tous les tests sont validés.')) "
   ]
  },
  {
   "cell_type": "markdown",
   "metadata": {},
   "source": [
    "Calculez la nouvelle valeur de $\\alpha_j$. Cette valeur correspond à un pas de descente de gradient : $\\alpha_j : = \\alpha_j + \\dfrac{y_j (E_i-E_j)}{\\eta}$. Vous placerez le résultat dans la variable `alpha_j_new`."
   ]
  },
  {
   "cell_type": "code",
   "execution_count": null,
   "metadata": {
    "deletable": false,
    "nbgrader": {
     "cell_type": "code",
     "checksum": "e44cd46e98319f8f6d2aac541f4ae876",
     "grade": false,
     "grade_id": "cell-e1be0935e752fcd4",
     "locked": false,
     "schema_version": 3,
     "solution": true,
     "task": false
    }
   },
   "outputs": [],
   "source": [
    "# YOUR CODE HERE\n",
    "raise NotImplementedError()"
   ]
  },
  {
   "cell_type": "code",
   "execution_count": null,
   "metadata": {
    "deletable": false,
    "editable": false,
    "nbgrader": {
     "cell_type": "code",
     "checksum": "f9172deae4c847b5a7d8b1f840975104",
     "grade": true,
     "grade_id": "cell-59e006dcdc887ec6",
     "locked": true,
     "points": 1,
     "schema_version": 3,
     "solution": false,
     "task": false
    }
   },
   "outputs": [],
   "source": [
    "# Ce bloc permet de valider votre code. Vous ne devez pas le modifier.  \n",
    "try:\n",
    "    np.testing.assert_almost_equal(alpha_j_new,-14.7239341,\n",
    "                            err_msg=\"\\033[93m {}\\033[00m\" .format('Test 1: valeur de alpha_j_new fausse.')\n",
    "                           )\n",
    "except Exception as e: \n",
    "    print(\"\\033[91m {}\\033[00m\" .format('KO - Au moins un test n\\'est pas validé')) \n",
    "    print('Information sur le test non valide:')\n",
    "    print(e)\n",
    "    raise e\n",
    "else:\n",
    "    print(\"\\033[92m {}\\033[00m\" .format('Ok - Tous les tests sont validés.')) "
   ]
  },
  {
   "cell_type": "markdown",
   "metadata": {},
   "source": [
    "En utilisant la fonction `np.clip` ( https://numpy.org/doc/stable/reference/generated/numpy.clip.html ) seuillez la nouvele valeur d'$\\alpha_j$ pour avoir des valeurs entre $L$ et $H$. $\\alpha_j := \\left\\{\\begin{array}{ccc}\n",
    "H &si&H<\\alpha_j\\\\ \n",
    "\\alpha_j &si&L\\leq\\alpha_j\\leq H\\\\\n",
    "L &si&\\alpha_j<L\\\\\n",
    "\\end{array}\n",
    "\\right.$."
   ]
  },
  {
   "cell_type": "code",
   "execution_count": null,
   "metadata": {
    "deletable": false,
    "nbgrader": {
     "cell_type": "code",
     "checksum": "fa043c79444a3dd4f6d0688092ebadb5",
     "grade": false,
     "grade_id": "cell-497258049a424b7e",
     "locked": false,
     "schema_version": 3,
     "solution": true,
     "task": false
    }
   },
   "outputs": [],
   "source": [
    "L = 2\n",
    "H = 10\n",
    "\n",
    "# YOUR CODE HERE\n",
    "raise NotImplementedError()"
   ]
  },
  {
   "cell_type": "code",
   "execution_count": null,
   "metadata": {
    "deletable": false,
    "editable": false,
    "nbgrader": {
     "cell_type": "code",
     "checksum": "0abbe3e5d382b7983884ee1de398e00b",
     "grade": true,
     "grade_id": "cell-44b9f4d532429fdd",
     "locked": true,
     "points": 1,
     "schema_version": 3,
     "solution": false,
     "task": false
    }
   },
   "outputs": [],
   "source": [
    "# Ce bloc permet de valider votre code. Vous ne devez pas le modifier.  \n",
    "try:\n",
    "    np.testing.assert_array_less(L-1e-9,alpha_j_new,\n",
    "                            err_msg=\"\\033[93m {}\\033[00m\" .format('Test 1: valeur alpha_j_new doit être au moins de L.')\n",
    "                           )\n",
    "    np.testing.assert_array_less(alpha_j_new,H+1e-9,\n",
    "                            err_msg=\"\\033[93m {}\\033[00m\" .format('Test 2: valeur de alpha_j_new doit être au plus à H.')\n",
    "                           )\n",
    "except Exception as e: \n",
    "    print(\"\\033[91m {}\\033[00m\" .format('KO - Au moins un test n\\'est pas validé')) \n",
    "    print('Information sur le test non valide:')\n",
    "    print(e)\n",
    "    raise e\n",
    "else:\n",
    "    print(\"\\033[92m {}\\033[00m\" .format('Ok - Tous les tests sont validés.')) "
   ]
  },
  {
   "cell_type": "markdown",
   "metadata": {},
   "source": [
    "Calculez la nouvelle version de $\\alpha_i$ à l'aide de l'équation suivante: $\\alpha_i := \\alpha_i + y_i y_j (\\alpha_j^\\text{old}-\\alpha_j)$. La valeur de $\\alpha_i$ est choisi pour conserver l'égalité $\\sum_i \\alpha_i y_i = 0$. Vous placerez le résultat dans `alpha_i_new`."
   ]
  },
  {
   "cell_type": "code",
   "execution_count": null,
   "metadata": {
    "deletable": false,
    "nbgrader": {
     "cell_type": "code",
     "checksum": "748dcd67ed659662f70565a3857c1ce4",
     "grade": false,
     "grade_id": "cell-1ea724ba1cb7bf1c",
     "locked": false,
     "schema_version": 3,
     "solution": true,
     "task": false
    }
   },
   "outputs": [],
   "source": [
    "# YOUR CODE HERE\n",
    "raise NotImplementedError()"
   ]
  },
  {
   "cell_type": "code",
   "execution_count": null,
   "metadata": {
    "deletable": false,
    "editable": false,
    "nbgrader": {
     "cell_type": "code",
     "checksum": "a8cb406506b24c10f8652883cc4b05d9",
     "grade": true,
     "grade_id": "cell-bce24bcc7361a8f3",
     "locked": true,
     "points": 1,
     "schema_version": 3,
     "solution": false,
     "task": false
    }
   },
   "outputs": [],
   "source": [
    "# Ce bloc permet de valider votre code. Vous ne devez pas le modifier.  \n",
    "try:\n",
    "    np.testing.assert_almost_equal(alpha_i_new,-0.7,\n",
    "                            err_msg=\"\\033[93m {}\\033[00m\" .format('Test 1: valeur de alpha_i_new fausse.')\n",
    "                           )\n",
    "except Exception as e: \n",
    "    print(\"\\033[91m {}\\033[00m\" .format('KO - Au moins un test n\\'est pas validé')) \n",
    "    print('Information sur le test non valide:')\n",
    "    print(e)\n",
    "    raise e\n",
    "else:\n",
    "    print(\"\\033[92m {}\\033[00m\" .format('Ok - Tous les tests sont validés.')) "
   ]
  },
  {
   "cell_type": "markdown",
   "metadata": {},
   "source": [
    "Calculez la nouvelle valeur de $b$ (que vous mettrez dans `b_new`). En utilisant la formule suivante:\n",
    "    $b := \\left\\{\\begin{array}{ccc}\n",
    "b_1 &si&0<\\alpha_i<C\\\\ \n",
    "b_2 &si&0<\\alpha_j<C\\\\\n",
    "\\dfrac{b_1+b_2}{2} &sinon&\\\\\n",
    "\\end{array}\n",
    "\\right.$, avec $b_1 = b - E_i -y_i (\\alpha_i-\\alpha_i^\\text{old})\\|x_i\\|^2 - y_j (\\alpha_j-\\alpha_j^\\text{old})\\langle x_i,x_j\\rangle$ \n",
    "et $b_2 = b - E_j -y_j (\\alpha_j-\\alpha_j^\\text{old})\\|x_j\\|^2 - y_i (\\alpha_i-\\alpha_i^\\text{old})\\langle x_i,x_j\\rangle$.\n",
    "\n",
    "Vous pouvez utiliser un `if` pour cette question."
   ]
  },
  {
   "cell_type": "code",
   "execution_count": null,
   "metadata": {
    "deletable": false,
    "nbgrader": {
     "cell_type": "code",
     "checksum": "81ed1be4d3bb43bcf2962ef401c37951",
     "grade": false,
     "grade_id": "cell-701c07724a91a3ba",
     "locked": false,
     "schema_version": 3,
     "solution": true,
     "task": false
    }
   },
   "outputs": [],
   "source": [
    "C = 1\n",
    "# YOUR CODE HERE\n",
    "raise NotImplementedError()"
   ]
  },
  {
   "cell_type": "code",
   "execution_count": null,
   "metadata": {
    "deletable": false,
    "editable": false,
    "nbgrader": {
     "cell_type": "code",
     "checksum": "768edbe8422919b66a6c4ec86ad0eb71",
     "grade": true,
     "grade_id": "cell-4216bd76c8af51c5",
     "locked": true,
     "points": 1,
     "schema_version": 3,
     "solution": false,
     "task": false
    }
   },
   "outputs": [],
   "source": [
    "# Ce bloc permet de valider votre code. Vous ne devez pas le modifier.  \n",
    "try:\n",
    "    np.testing.assert_almost_equal(b_new,-12238.6711933,\n",
    "                            err_msg=\"\\033[93m {}\\033[00m\" .format('Test 1: valeur de b_new fausse.')\n",
    "                           )\n",
    "except Exception as e: \n",
    "    print(\"\\033[91m {}\\033[00m\" .format('KO - Au moins un test n\\'est pas validé')) \n",
    "    print('Information sur le test non valide:')\n",
    "    print(e)\n",
    "    raise e\n",
    "else:\n",
    "    print(\"\\033[92m {}\\033[00m\" .format('Ok - Tous les tests sont validés.')) "
   ]
  },
  {
   "cell_type": "markdown",
   "metadata": {},
   "source": [
    "En utilisant les questions précédentes, complétez le code suivant:"
   ]
  },
  {
   "cell_type": "code",
   "execution_count": null,
   "metadata": {
    "deletable": false,
    "nbgrader": {
     "cell_type": "code",
     "checksum": "89f28a1709896adfbcf1b2d930cd2692",
     "grade": true,
     "grade_id": "cell-989ea155c1452b65",
     "locked": false,
     "points": 2,
     "schema_version": 3,
     "solution": true,
     "task": false
    }
   },
   "outputs": [],
   "source": [
    "def smoSimple(X,y,C,tol,maxIter):\n",
    "    '''\n",
    "    :param X: X données d'apprentissage. Chaque ligne correspond à un exemple.\n",
    "    :param y: y labels des exemples d'apprentissage (-1 ou 1).\n",
    "    :param C: paramètre de régularisation\n",
    "    :param tol: tolérance sur le respect des contraintes\n",
    "    :param maxIter: nombre maximale d'itération de l'algorithme.\n",
    "    :return : retourne les poids des vecteurs suppérieurs (alphas) et le bias (b) du classifieur. Les poids sont à 0 pour les exemples d'apprentissages qui ne sont pas vecteur support.\n",
    "    '''\n",
    "    m,n = X.shape\n",
    "    # Initialisation du classifieur\n",
    "    b = 0\n",
    "    alphas = np.zeros(X.shape[0])\n",
    "    \n",
    "    for t in range(maxIter):\n",
    "        alphaPairsChanged = 0\n",
    "        for i in range(m):\n",
    "            # Évaluation de la fonction pour l'exemple i (fXi)\n",
    "            ### BEGIN SOLUTION\n",
    "            fXi = f(X[i,None,:],X,y,alphas,b)#np.sum(alphas * y * (X @ X[i,:])) + b\n",
    "            \n",
    "            # Erreur de l'exemple i (Ei)\n",
    "            # YOUR CODE HERE\n",
    "            raise NotImplementedError()\n",
    "            \n",
    "            # Si la contraintes n'est pas saturé et que |Ei|>tolerance\n",
    "            if ((y[i]*Ei<-tol) and (alphas[i]<C)) or ((y[i]*Ei>tol)and (alphas[i]>0)):\n",
    "                # Tirage aléatoire du deuxième points différent du premier et calcul de fXj et Ej.\n",
    "                # YOUR CODE HERE\n",
    "                raise NotImplementedError()\n",
    "                \n",
    "                alphaIold = alphas[i]\n",
    "                alphaJold = alphas[j]\n",
    "                \n",
    "                if y[i] != y[j]:\n",
    "                    L = max(0,alphas[j]-alphas[i])\n",
    "                    H = min(C,C+alphas[j]-alphas[i])\n",
    "                else:\n",
    "                    L = max(0,alphas[j]+alphas[i] - C)\n",
    "                    H = min(C,alphas[j]+alphas[i])\n",
    "                if L == H :\n",
    "                    continue         \n",
    "                    \n",
    "                # Calcul de Eta\n",
    "                # YOUR CODE HERE\n",
    "                raise NotImplementedError()\n",
    "                \n",
    "                if eta <= 0:\n",
    "                    continue\n",
    "\n",
    "                # Mise à jour de alpha_j. Changez directement alphas[j].\n",
    "                # YOUR CODE HERE\n",
    "                raise NotImplementedError()\n",
    "                \n",
    "                if np.abs(alphas[j]-alphaJold)<0.00001:\n",
    "                    continue\n",
    "                # Mise à jour de alpha_i. Changez directement alphas[i].\n",
    "                # YOUR CODE HERE\n",
    "                raise NotImplementedError()\n",
    "                \n",
    "                # Calcul de b\n",
    "                # YOUR CODE HERE\n",
    "                raise NotImplementedError()\n",
    "                alphaPairsChanged += 1\n",
    "\n",
    "    return alphas,b\n",
    "                \n"
   ]
  },
  {
   "cell_type": "code",
   "execution_count": null,
   "metadata": {},
   "outputs": [],
   "source": [
    "alphas,b = smoSimple(X_train,y_train*2-1,C=1e0,tol=1e-4,maxIter=1000)"
   ]
  },
  {
   "cell_type": "markdown",
   "metadata": {},
   "source": [
    "Affichez dans une figure matplotlib les points d'apprentissage ainsi que les vecteurs supports sélectionnés."
   ]
  },
  {
   "cell_type": "code",
   "execution_count": null,
   "metadata": {
    "deletable": false,
    "nbgrader": {
     "cell_type": "code",
     "checksum": "29ce96d3239cbda7ead44d046867b214",
     "grade": true,
     "grade_id": "cell-f794b4637cc49ebb",
     "locked": false,
     "points": 1,
     "schema_version": 3,
     "solution": true,
     "task": false
    }
   },
   "outputs": [],
   "source": [
    "# YOUR CODE HERE\n",
    "raise NotImplementedError()"
   ]
  },
  {
   "cell_type": "code",
   "execution_count": null,
   "metadata": {},
   "outputs": [],
   "source": []
  },
  {
   "cell_type": "code",
   "execution_count": null,
   "metadata": {},
   "outputs": [],
   "source": []
  },
  {
   "cell_type": "code",
   "execution_count": null,
   "metadata": {},
   "outputs": [],
   "source": []
  },
  {
   "cell_type": "code",
   "execution_count": null,
   "metadata": {},
   "outputs": [],
   "source": []
  },
  {
   "cell_type": "code",
   "execution_count": null,
   "metadata": {},
   "outputs": [],
   "source": []
  },
  {
   "cell_type": "code",
   "execution_count": null,
   "metadata": {},
   "outputs": [],
   "source": []
  }
 ],
 "metadata": {
  "kernelspec": {
   "display_name": "Python 3 (ipykernel)",
   "language": "python",
   "name": "python3"
  },
  "language_info": {
   "codemirror_mode": {
    "name": "ipython",
    "version": 3
   },
   "file_extension": ".py",
   "mimetype": "text/x-python",
   "name": "python",
   "nbconvert_exporter": "python",
   "pygments_lexer": "ipython3",
   "version": "3.10.5"
  }
 },
 "nbformat": 4,
 "nbformat_minor": 4
}
