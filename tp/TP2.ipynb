{
 "cells": [
  {
   "cell_type": "markdown",
   "metadata": {},
   "source": [
    "TP 2 : Clustering \n",
    "===="
   ]
  },
  {
   "cell_type": "markdown",
   "metadata": {},
   "source": [
    "# 0 - Introduction\n",
    "\n",
    "L'objectif de ce premier TP est d'étudier quelques techniques de Clustering.\n",
    "Il sera à réaliser en python 3. Les librairies utilisées sont installées sur les machines de l'université et de l'Ensicaen, vous pouvez néanmoins les installer sur vos propres machines à l'aide de l'utilitaire pip présent par défaut avec python.\n",
    "\t\n",
    "N'hésitez pas à regarder régulièrement la documentation de ces librairies, des exemples d'utilisation accompagnent généralement l'explication de chaque fonction.\n",
    "\n",
    "\n",
    "Langage utilisé:\n",
    "- Python 3: https://docs.python.org/3/\n",
    "\n",
    "Librairie de math:\n",
    "- Numpy: https://docs.scipy.org/doc/numpy/reference/\n",
    "- Scipy: https://docs.scipy.org/doc/scipy/reference/\n",
    "\n",
    "Librairie d'affichage de données:\n",
    "- Matplotilb: https://matplotlib.org/contents.html\n",
    "\n",
    "Librairie de traitement d'image:\n",
    "- Scikit-image: https://scikit-image.org/\n",
    "\n",
    "Librairie d'apprentissage automatique:\n",
    "- Scikit-learn: http://scikit-learn.org\n",
    "\n",
    "**Afin d'avoir un code optimisé, vous éviterez d'utiliser les instructions python3 `if`, `for` et `while` (sauf mention contraire dans le sujet).**"
   ]
  },
  {
   "cell_type": "code",
   "execution_count": null,
   "metadata": {},
   "outputs": [],
   "source": [
    "#Ce bloc contient tous les imports nécessaires pour ce TP.\n",
    "\n",
    "# import de fonctions mathématiques\n",
    "import numpy as np\n",
    "import scipy as sc\n",
    "\n",
    "# import fonction d'affichage\n",
    "import matplotlib\n",
    "import matplotlib.pyplot as plt\n",
    "from matplotlib.colors import ListedColormap\n",
    "from mpl_toolkits.mplot3d import Axes3D # pour la gestion de figure 3D\n",
    "import matplotlib.patches as mpatches\n",
    "\n",
    "# import librairies d'apprentissage automatique\n",
    "import sklearn as skl\n",
    "import sklearn.datasets as data\n",
    "import sklearn.cluster\n",
    "import sklearn.mixture"
   ]
  },
  {
   "cell_type": "markdown",
   "metadata": {},
   "source": [
    "Afin de vous guider dans la détection d'erreur dans votre code. Nous avons introduit des blocs de tests. Il n'est pas nécessaire que vous compreniez en détail le code de ces blocs. Vous devez uniquement les exécuter et corriger les erreurs de votre code si un des tests n'est pas valide. Il est important de noter que le fait de valider le test ne garantit pas que votre code ne contient pas d'erreur. Par contre un test non validé implique nécessairement que votre code contient une erreur.\n",
    "\n",
    "- Si tout les tests sont valides, vous aurez un message écrit en vert indiquant : Ok - Tous les tests sont validés.\n",
    "- Si un des tests n'est pas valide, vous aurez un message écrit en rouge indiquant : Au moins un test n'est pas validé.\n",
    "- Pour les tests non valides, vous aurez des éléments d'information sur le test non valide. En particulier, un message écrit en jaune vous détaillera la nature du test échoué."
   ]
  },
  {
   "cell_type": "markdown",
   "metadata": {},
   "source": [
    "Voici un exemple d'utilisation. Le bloc suivant est censé contenir l'affectation de la valeur 42 à la variable `a`. Le bloc de test d'après vérifie que vous avez correctement effectué l'affectation. Exécutez les deux blocs avec des valeurs de `a` correcte et incorrecte.\n",
    "Vous devez supprimer la ligne `raise NotImplementedError()` qui indique que vous n'avez pas encore fait l'implémentation."
   ]
  },
  {
   "cell_type": "code",
   "execution_count": null,
   "metadata": {
    "deletable": false,
    "nbgrader": {
     "cell_type": "code",
     "checksum": "99559bbc66aa4d4259c695cc1d2254d0",
     "grade": false,
     "grade_id": "cell-b2c13e1117eaa43c",
     "locked": false,
     "schema_version": 3,
     "solution": true,
     "task": false
    }
   },
   "outputs": [],
   "source": [
    "# YOUR CODE HERE\n",
    "raise NotImplementedError()"
   ]
  },
  {
   "cell_type": "code",
   "execution_count": null,
   "metadata": {
    "deletable": false,
    "editable": false,
    "nbgrader": {
     "cell_type": "code",
     "checksum": "6891e43ade2a405b4742cb6e5ec0dc4b",
     "grade": true,
     "grade_id": "cell-a21a891ad69b17ba",
     "locked": true,
     "points": 0,
     "schema_version": 3,
     "solution": false,
     "task": false
    }
   },
   "outputs": [],
   "source": [
    "# Ce bloc permet de valider votre code. Vous ne devez pas le modifier.  \n",
    "try:\n",
    "    np.testing.assert_equal(a,42,err_msg=\"\\033[93m {}\\033[00m\" .format('Test 1 : a n\\'est pas égale à 42. Vérifiez que a==42'))\n",
    "except Exception as e: \n",
    "    print(\"\\033[91m {}\\033[00m\" .format('KO - Au moins un test n\\'est pas validé')) \n",
    "    print('Information sur le test non valide:')\n",
    "    print(e)\n",
    "    raise e\n",
    "else:\n",
    "    print(\"\\033[92m {}\\033[00m\" .format('Ok - Tous les tests sont validés.')) "
   ]
  },
  {
   "cell_type": "markdown",
   "metadata": {},
   "source": [
    "1 - Génération de données\n",
    "---"
   ]
  },
  {
   "cell_type": "markdown",
   "metadata": {},
   "source": [
    "Dans cette première partie nous allons générer des données selon 3 Gaussiennes sphériques. Vous utiliserez pour cela la fonction `np.random.normal`. Les caractéristiques des 3 gausiennes sont les suivantes:\n",
    "- 500 points selon une distribution gaussienne centrée sur le point [0,2], d'écart type 0.1,\n",
    "- 100 points selon une distribution gaussienne centrée sur le point [-1,0], d'écart type 0.05\n",
    "- 50  points selon une distribution gaussienne centrée sur le point [1,0], d'écart type 0.05"
   ]
  },
  {
   "cell_type": "code",
   "execution_count": null,
   "metadata": {
    "deletable": false,
    "nbgrader": {
     "cell_type": "code",
     "checksum": "7c4c169a5d880a5f25e77629ca197329",
     "grade": false,
     "grade_id": "cell-3c48dd14e6acb9b4",
     "locked": false,
     "schema_version": 3,
     "solution": true,
     "task": false
    }
   },
   "outputs": [],
   "source": [
    "def gen_3_gausiennes():\n",
    "    '''\n",
    "    :return: retourne trois matrices correspondant au trois gausiennes dans l'ordre de la question\n",
    "    '''\n",
    "    # YOUR CODE HERE\n",
    "    raise NotImplementedError()\n",
    "    return g1,g2,g3"
   ]
  },
  {
   "cell_type": "code",
   "execution_count": null,
   "metadata": {
    "deletable": false,
    "editable": false,
    "nbgrader": {
     "cell_type": "code",
     "checksum": "2b1df76742f2e2785411b28f9f4a4f9c",
     "grade": true,
     "grade_id": "cell-c0f9920648d9a3a7",
     "locked": true,
     "points": 1,
     "schema_version": 3,
     "solution": false,
     "task": false
    }
   },
   "outputs": [],
   "source": [
    "# Ce bloc permet de valider votre code. Vous ne devez pas le modifier.  \n",
    "try:\n",
    "    g1,g2,g3 = gen_3_gausiennes()\n",
    "    np.testing.assert_equal(g1.shape,(500,2),err_msg=\"\\033[93m {}\\033[00m\" .format('Test 1 : le nombre de point généré par la première gaussienne est incorrect.'))\n",
    "    np.testing.assert_equal(g2.shape,(100,2),err_msg=\"\\033[93m {}\\033[00m\" .format('Test 2 : le nombre de point généré par la deuxième gaussienne est incorrect.'))\n",
    "    np.testing.assert_equal(g3.shape,(50,2),err_msg=\"\\033[93m {}\\033[00m\" .format('Test 3 : le nombre de point généré par la troisième gaussienne est incorrect.'))\n",
    "        \n",
    "except Exception as e: \n",
    "    print(\"\\033[91m {}\\033[00m\" .format('KO - Au moins un test n\\'est pas validé')) \n",
    "    print('Information sur le test non valide:')\n",
    "    print(e)\n",
    "    raise e\n",
    "else:\n",
    "    print(\"\\033[92m {}\\033[00m\" .format('Ok - Tous les tests sont validés.')) \n",
    "    \n",
    "\n",
    "del g1,g2,g3"
   ]
  },
  {
   "cell_type": "markdown",
   "metadata": {},
   "source": [
    "Écrivez une fonction qui génére les points selon les trois gausiennes et les concaténe dans une seule matrice. Pour rappel les fonctions de concaténation de `numpy` sont listé à l'adresse : https://numpy.org/doc/stable/reference/routines.array-manipulation.html#joining-arrays"
   ]
  },
  {
   "cell_type": "code",
   "execution_count": null,
   "metadata": {
    "deletable": false,
    "nbgrader": {
     "cell_type": "code",
     "checksum": "b8fc24c235451efdf4331cc96cdc700d",
     "grade": false,
     "grade_id": "cell-ba2779ee463d4719",
     "locked": false,
     "schema_version": 3,
     "solution": true,
     "task": false
    }
   },
   "outputs": [],
   "source": [
    "def gen_pts():\n",
    "    # YOUR CODE HERE\n",
    "    raise NotImplementedError()\n",
    "    return X\n",
    "\n",
    "X = gen_pts()"
   ]
  },
  {
   "cell_type": "code",
   "execution_count": null,
   "metadata": {
    "deletable": false,
    "editable": false,
    "nbgrader": {
     "cell_type": "code",
     "checksum": "aaf048dd3bb4dea5721aeab7074cff1c",
     "grade": true,
     "grade_id": "cell-95f5ad8d36ede986",
     "locked": true,
     "points": 1,
     "schema_version": 3,
     "solution": false,
     "task": false
    }
   },
   "outputs": [],
   "source": [
    "# Ce bloc permet de valider votre code. Vous ne devez pas le modifier.  \n",
    "try:\n",
    "    np.testing.assert_equal(gen_pts().shape,(650,2),err_msg=\"\\033[93m {}\\033[00m\" .format('Test 1 : les dimensions de X ne sont pas correcte.'))\n",
    "        \n",
    "except Exception as e: \n",
    "    print(\"\\033[91m {}\\033[00m\" .format('KO - Au moins un test n\\'est pas validé')) \n",
    "    print('Information sur le test non valide:')\n",
    "    print(e)\n",
    "    raise e\n",
    "else:\n",
    "    print(\"\\033[92m {}\\033[00m\" .format('Ok - Tous les tests sont validés.')) "
   ]
  },
  {
   "cell_type": "markdown",
   "metadata": {},
   "source": [
    "Affichez à l'aide de `matplotlib` les points de la question précédente."
   ]
  },
  {
   "cell_type": "code",
   "execution_count": null,
   "metadata": {
    "deletable": false,
    "nbgrader": {
     "cell_type": "code",
     "checksum": "24ff40d0111b63312aa831c8ce5b0637",
     "grade": true,
     "grade_id": "cell-49a87c27ce0f3d46",
     "locked": false,
     "points": 1,
     "schema_version": 3,
     "solution": true,
     "task": false
    }
   },
   "outputs": [],
   "source": [
    "# YOUR CODE HERE\n",
    "raise NotImplementedError()"
   ]
  },
  {
   "cell_type": "markdown",
   "metadata": {},
   "source": [
    "Créez un vecteur de label (nommé `labels`) contenant le numéro de la gausienne qui a permis de généré chaque point. La première gaussienne a le numéro 0."
   ]
  },
  {
   "cell_type": "code",
   "execution_count": null,
   "metadata": {
    "deletable": false,
    "nbgrader": {
     "cell_type": "code",
     "checksum": "2b027a1a279c4dfb7ccf4da79bb65c6f",
     "grade": false,
     "grade_id": "cell-c3787491b442e702",
     "locked": false,
     "schema_version": 3,
     "solution": true,
     "task": false
    }
   },
   "outputs": [],
   "source": [
    "# YOUR CODE HERE\n",
    "raise NotImplementedError()"
   ]
  },
  {
   "cell_type": "code",
   "execution_count": null,
   "metadata": {
    "deletable": false,
    "editable": false,
    "nbgrader": {
     "cell_type": "code",
     "checksum": "73879dbbbb46c939ec4ba6ee54ee486a",
     "grade": true,
     "grade_id": "cell-2c15c1313f0c881e",
     "locked": true,
     "points": 1,
     "schema_version": 3,
     "solution": false,
     "task": false
    }
   },
   "outputs": [],
   "source": [
    "# Ce bloc permet de valider votre code. Vous ne devez pas le modifier.  \n",
    "try:\n",
    "    np.testing.assert_equal(labels.shape,(650,),err_msg=\"\\033[93m {}\\033[00m\" .format('Test 1 : la dimension du vecteur labels n\\'est pas correcte.'))\n",
    "    np.testing.assert_equal(np.all(labels[:500]==0),True,err_msg=\"\\033[93m {}\\033[00m\" .format('Test 2 : Les labels de la gaussienne 0 sont incorrects'))\n",
    "    np.testing.assert_equal(np.all(labels[500:600]==1),True,err_msg=\"\\033[93m {}\\033[00m\" .format('Test 2 : Les labels de la gaussienne 1 sont incorrectes'))\n",
    "    np.testing.assert_equal(np.all(labels[600:]==2),True,err_msg=\"\\033[93m {}\\033[00m\" .format('Test 2 : Les labels de la gaussienne 2 sont incorrectes'))\n",
    "        \n",
    "except Exception as e: \n",
    "    print(\"\\033[91m {}\\033[00m\" .format('KO - Au moins un test n\\'est pas validé')) \n",
    "    print('Information sur le test non valide:')\n",
    "    print(e)\n",
    "    raise e\n",
    "else:\n",
    "    print(\"\\033[92m {}\\033[00m\" .format('Ok - Tous les tests sont validés.')) "
   ]
  },
  {
   "cell_type": "markdown",
   "metadata": {},
   "source": [
    "En utilisant `X`, `labels` et les paramètres de la fonction `plt.scatter` affichez les points générés avec une couleur différente par gausienne."
   ]
  },
  {
   "cell_type": "code",
   "execution_count": null,
   "metadata": {
    "deletable": false,
    "nbgrader": {
     "cell_type": "code",
     "checksum": "2c08002ec0e4b25749b305b8b0288e9e",
     "grade": true,
     "grade_id": "cell-cae0489c431023cd",
     "locked": false,
     "points": 1,
     "schema_version": 3,
     "solution": true,
     "task": false
    }
   },
   "outputs": [],
   "source": [
    "# YOUR CODE HERE\n",
    "raise NotImplementedError()"
   ]
  },
  {
   "cell_type": "markdown",
   "metadata": {},
   "source": [
    "2 - Clustering par K-Moyennes\n",
    "---"
   ]
  },
  {
   "cell_type": "markdown",
   "metadata": {},
   "source": [
    "Nous allons dans cette partie utiliser l'implémentation de `scikit-learn` de l'algoritheme des K-Moyennes et en étudier les paramètres. \n",
    "Commencez par lire la documentation sur le sujet : https://scikit-learn.org/stable/modules/generated/sklearn.cluster.KMeans.html"
   ]
  },
  {
   "cell_type": "markdown",
   "metadata": {},
   "source": [
    "L'algorithme des K-Moyennes peut être initialisé de plusieurs façon. Faites un apprentissage en partant des trois points suivants : \n",
    "- -0.4  ;  2.75\n",
    "- 0 ;  2.75\n",
    "- 0.3  ; 2.5\n",
    "\n",
    "Vous mettrez le paramètre `n_init` à 1."
   ]
  },
  {
   "cell_type": "code",
   "execution_count": null,
   "metadata": {
    "deletable": false,
    "nbgrader": {
     "cell_type": "code",
     "checksum": "a550e683b652fe309147b2bba7a8d70a",
     "grade": false,
     "grade_id": "cell-4c66f9fe49934f85",
     "locked": false,
     "schema_version": 3,
     "solution": true,
     "task": false
    }
   },
   "outputs": [],
   "source": [
    "def get_K_Means_with_spetial_init(X):\n",
    "    '''\n",
    "    :param X: données uitilisées pour apprendre le Kmeans\n",
    "    :return: retourne l'objet appris à l'aide d'un Kmeans sur les données X passé en argument de la fonction. L'algorithme est initialisé avec 3 centres fixés.\n",
    "    '''\n",
    "    # YOUR CODE HERE\n",
    "    raise NotImplementedError()\n",
    "    return kmeans"
   ]
  },
  {
   "cell_type": "code",
   "execution_count": null,
   "metadata": {
    "deletable": false,
    "editable": false,
    "nbgrader": {
     "cell_type": "code",
     "checksum": "a859d9d0c97d0cc51c2576d1f4406de5",
     "grade": true,
     "grade_id": "cell-93c1fa063a4101a0",
     "locked": true,
     "points": 1,
     "schema_version": 3,
     "solution": false,
     "task": false
    }
   },
   "outputs": [],
   "source": [
    "# Ce bloc permet de valider votre code. Vous ne devez pas le modifier.  \n",
    "try:\n",
    "    _kmeans_ = get_K_Means_with_spetial_init(X)\n",
    "    \n",
    "    np.testing.assert_equal(type(_kmeans_),sklearn.cluster._kmeans.KMeans,err_msg=\"\\033[93m {}\\033[00m\" .format('Test 1 : l\\'objet retourné par la fonction get_K_Means_with_spetial_init n\\'est pas correct.'))\n",
    "    try:\n",
    "        assert 'n_iter_' in _kmeans_.__dict__\n",
    "    except Exception as e: \n",
    "        raise AssertionError(\"Test 2 : L'algorithme Kmeans n'a pas été appris.\")\n",
    "except Exception as e: \n",
    "    print(\"\\033[91m {}\\033[00m\" .format('KO - Au moins un test n\\'est pas validé')) \n",
    "    print('Information sur le test non valide:')\n",
    "    print(e)\n",
    "    raise e\n",
    "else:\n",
    "    print(\"\\033[92m {}\\033[00m\" .format('Ok - Tous les tests sont validés.')) \n",
    "    "
   ]
  },
  {
   "cell_type": "markdown",
   "metadata": {},
   "source": [
    "Affichez sur une même figure:\n",
    "- les points dans `X`\n",
    "- les 3 points de départs\n",
    "- la position finales des 3 clusters.\n",
    "\n",
    "Vous utiliserez des couleurs différentes pour différencier ces points."
   ]
  },
  {
   "cell_type": "code",
   "execution_count": null,
   "metadata": {
    "deletable": false,
    "nbgrader": {
     "cell_type": "code",
     "checksum": "7e3335a3e2eddfdb6ea641ac2e76494e",
     "grade": true,
     "grade_id": "cell-e9799e9f7a270b3e",
     "locked": false,
     "points": 1,
     "schema_version": 3,
     "solution": true,
     "task": false
    }
   },
   "outputs": [],
   "source": [
    "def plot_kmeans_with_spetial_init(X):\n",
    "    # YOUR CODE HERE\n",
    "    raise NotImplementedError()\n",
    "\n",
    "# 10 clustering avec des points différents. Que pouvez-vous remarquer ? Pourquoi ? \n",
    "for i in range(10):\n",
    "    X = gen_pts()\n",
    "    plot_kmeans_with_spetial_init(X)"
   ]
  },
  {
   "cell_type": "markdown",
   "metadata": {},
   "source": [
    "Exécutez le code suivant pour visualiser les cellules de Voronoï de chaque cluster."
   ]
  },
  {
   "cell_type": "code",
   "execution_count": null,
   "metadata": {
    "deletable": false,
    "editable": false,
    "nbgrader": {
     "cell_type": "code",
     "checksum": "921ee49f7c6080f37b5fd763979ca27c",
     "grade": false,
     "grade_id": "cell-cb6dea503b9265cb",
     "locked": true,
     "schema_version": 3,
     "solution": false,
     "task": false
    }
   },
   "outputs": [],
   "source": [
    "kmeans = get_K_Means_with_spetial_init(X)\n",
    "\n",
    "def affichage_cellules_Voronoi(clf,X,labels):\n",
    "    '''\n",
    "    Fonction affichant les cellules de Voronoi d'un algorithme de clustering préalablement appris\n",
    "    :param clf: classifieur non supervisé appris au préalable\n",
    "    '''\n",
    "    pas = 500 # pas de quantification, plus la valeur est grande plus les frontières sont précises mais le temps de calcul augmente\n",
    "\n",
    "    x_min, x_max = X[:, 0].min() -1, X[:, 0].max() +1\n",
    "    y_min, y_max = X[:, 1].min() -1 , X[:, 1].max() +1\n",
    "    h = abs(x_max-x_min)/pas \n",
    "    xx, yy = np.meshgrid(np.arange(x_min, x_max, h), np.arange(y_min, y_max, h))\n",
    "\n",
    "    Z = clf.predict(np.stack((xx.ravel(), yy.ravel()),1))\n",
    "    Z = Z.reshape(xx.shape)\n",
    "\n",
    "    plt.scatter(X[:,0],X[:,1],c=labels,marker='.')\n",
    "    plt.imshow(Z, interpolation='nearest',\n",
    "               extent=(xx.min(), xx.max(), yy.min(), yy.max()),\n",
    "               cmap=plt.cm.Paired,\n",
    "               aspect='auto', origin='lower')\n",
    "    plt.show()\n",
    "    \n",
    "affichage_cellules_Voronoi(kmeans,X,labels)"
   ]
  },
  {
   "cell_type": "markdown",
   "metadata": {},
   "source": [
    "Faites une étude de l'impacte des différentes paramètres possibles de Kmeans. Que font les autres méthodes d'initialisation ? Que se passe-t-il si on fait varier le nombre de classes recherchées ? ..."
   ]
  },
  {
   "cell_type": "code",
   "execution_count": null,
   "metadata": {},
   "outputs": [],
   "source": []
  },
  {
   "cell_type": "markdown",
   "metadata": {},
   "source": [
    "3 - Modèle de mélange de Gausiennes\n",
    "-----"
   ]
  },
  {
   "cell_type": "markdown",
   "metadata": {},
   "source": [
    "Nous allons dans cette partie réalisé un clustering à l'aide d'un mélange de Gausinnes (GMM: Gaussian Mixture Model). Pour cela veuillez étudiez la documentation à la page: https://scikit-learn.org/stable/modules/generated/sklearn.mixture.GaussianMixture.html\n",
    "\n",
    "De manière analogue à la partie précédente. Apprenez le mélange de Gaussiennes et affichez les cellules de Voronoï de chaque cluster."
   ]
  },
  {
   "cell_type": "code",
   "execution_count": null,
   "metadata": {
    "deletable": false,
    "nbgrader": {
     "cell_type": "code",
     "checksum": "629ee0aa3d933c5e0e100222fbfb57e9",
     "grade": false,
     "grade_id": "cell-28b476d67a38ad38",
     "locked": false,
     "schema_version": 3,
     "solution": true,
     "task": false
    }
   },
   "outputs": [],
   "source": [
    "def get_GMM(X):\n",
    "    '''\n",
    "    :param X: données d'apprentissage\n",
    "    :return : un GMM appris avec X\n",
    "    '''\n",
    "    # YOUR CODE HERE\n",
    "    raise NotImplementedError()\n",
    "    return gmm\n",
    "\n",
    "# YOUR CODE HERE\n",
    "raise NotImplementedError()"
   ]
  },
  {
   "cell_type": "code",
   "execution_count": null,
   "metadata": {
    "deletable": false,
    "editable": false,
    "nbgrader": {
     "cell_type": "code",
     "checksum": "4ed54f46b4df24654135920fa2e7d4d4",
     "grade": true,
     "grade_id": "cell-2eec11d9a0467762",
     "locked": true,
     "points": 1,
     "schema_version": 3,
     "solution": false,
     "task": false
    }
   },
   "outputs": [],
   "source": [
    "# Ce bloc permet de valider votre code. Vous ne devez pas le modifier.  \n",
    "try:\n",
    "    _gmm_ = get_GMM(X)\n",
    "    \n",
    "    np.testing.assert_equal(type(_gmm_),sklearn.mixture._gaussian_mixture.GaussianMixture,err_msg=\"\\033[93m {}\\033[00m\" .format('Test 1 : l\\'objet retourné par la fonction get_GMM n\\'est pas correct.'))\n",
    "    try:\n",
    "        assert 'n_iter_' in _gmm_.__dict__\n",
    "    except Exception as e: \n",
    "        raise AssertionError(\"Test 2 : L'algorithme GMM n'a pas été appris.\")\n",
    "except Exception as e: \n",
    "    print(\"\\033[91m {}\\033[00m\" .format('KO - Au moins un test n\\'est pas validé')) \n",
    "    print('Information sur le test non valide:')\n",
    "    print(e)\n",
    "    raise e\n",
    "else:\n",
    "    print(\"\\033[92m {}\\033[00m\" .format('Ok - Tous les tests sont validés.')) \n",
    "    "
   ]
  },
  {
   "cell_type": "markdown",
   "metadata": {},
   "source": [
    "Les données que nous utilisons jusqu'à présent sont définis selon des clusters sphériques. Nous allons maintenant utiliser des données réparties selon des ellipses. Pour cela utilisez la fonction `np.random.multivariate_normal` ( https://numpy.org/doc/stable/reference/random/generated/numpy.random.multivariate_normal.html ).\n",
    "\n",
    "Les caractéristiques des 3 lois normales sont les suivantes:\n",
    "- 500 points selon une distribution normal centrée sur le point [4,6], de covariance $\\left[\\begin{array}{cc}\n",
    "1&0.7\\\\\n",
    "0.7&1\n",
    "\\end{array}\n",
    "\\right]\n",
    "$,\n",
    "- 100 points selon une distribution normal centrée sur le point [0,0], de covariance $\\left[\\begin{array}{cc}\n",
    "0.7&-0.5\\\\\n",
    "-0.5&0.7\n",
    "\\end{array}\n",
    "\\right]\n",
    "$,\n",
    "- 50  points selon une distribution normal centrée sur le point [7,2], de covariance $\\left[\\begin{array}{cc}\n",
    "0.3&0\\\\\n",
    "0&0.3\n",
    "\\end{array}\n",
    "\\right]\n",
    "$."
   ]
  },
  {
   "cell_type": "code",
   "execution_count": null,
   "metadata": {
    "deletable": false,
    "nbgrader": {
     "cell_type": "code",
     "checksum": "33e8654af702ac8c73cd610a8fca1e07",
     "grade": false,
     "grade_id": "cell-4639aa1cb22163f9",
     "locked": false,
     "schema_version": 3,
     "solution": true,
     "task": false
    }
   },
   "outputs": [],
   "source": [
    "def gen_pts_3cluster_ellipse():\n",
    "    '''\n",
    "    :return : des points générer selon trois distributions normals elliptiques pré-définis.\n",
    "    '''\n",
    "    # YOUR CODE HERE\n",
    "    raise NotImplementedError()\n",
    "    return X\n",
    "\n",
    "X_ellipse = gen_pts_3cluster_ellipse()\n"
   ]
  },
  {
   "cell_type": "code",
   "execution_count": null,
   "metadata": {
    "deletable": false,
    "editable": false,
    "nbgrader": {
     "cell_type": "code",
     "checksum": "44008c33ec377d99198ef5eb0d6cf21c",
     "grade": true,
     "grade_id": "cell-6f2bf63ac70ce607",
     "locked": true,
     "points": 1,
     "schema_version": 3,
     "solution": false,
     "task": false
    }
   },
   "outputs": [],
   "source": [
    "# Ce bloc permet de valider votre code. Vous ne devez pas le modifier.  \n",
    "try:\n",
    "    X_ellipse = gen_pts_3cluster_ellipse()\n",
    "    np.testing.assert_equal(X_ellipse.shape,(650,2),err_msg=\"\\033[93m {}\\033[00m\" .format('Test 1 : le nombre de points générés est incorrect.'))\n",
    "        \n",
    "except Exception as e: \n",
    "    print(\"\\033[91m {}\\033[00m\" .format('KO - Au moins un test n\\'est pas validé')) \n",
    "    print('Information sur le test non valide:')\n",
    "    print(e)\n",
    "    raise e\n",
    "else:\n",
    "    print(\"\\033[92m {}\\033[00m\" .format('Ok - Tous les tests sont validés.')) \n",
    "    "
   ]
  },
  {
   "cell_type": "markdown",
   "metadata": {},
   "source": [
    "Visualisez les points générés"
   ]
  },
  {
   "cell_type": "code",
   "execution_count": null,
   "metadata": {
    "deletable": false,
    "nbgrader": {
     "cell_type": "code",
     "checksum": "b076e98212ef6c6f3c8f03cae89c8861",
     "grade": true,
     "grade_id": "cell-232b8cc3c2415dd8",
     "locked": false,
     "points": 1,
     "schema_version": 3,
     "solution": true,
     "task": false
    }
   },
   "outputs": [],
   "source": [
    "# YOUR CODE HERE\n",
    "raise NotImplementedError()"
   ]
  },
  {
   "cell_type": "markdown",
   "metadata": {},
   "source": [
    "Comparez l'algorithme des K-moyennes et le GMM sur ces nouvelles données."
   ]
  },
  {
   "cell_type": "code",
   "execution_count": null,
   "metadata": {
    "deletable": false,
    "nbgrader": {
     "cell_type": "code",
     "checksum": "9c6a733279322ebe74337ffd7fb67bb3",
     "grade": true,
     "grade_id": "cell-9429903962c2eb1a",
     "locked": false,
     "points": 1,
     "schema_version": 3,
     "solution": true,
     "task": false
    }
   },
   "outputs": [],
   "source": [
    "# YOUR CODE HERE\n",
    "raise NotImplementedError()"
   ]
  },
  {
   "cell_type": "markdown",
   "metadata": {},
   "source": [
    "4 - Clustering Spectral\n",
    "------"
   ]
  },
  {
   "cell_type": "markdown",
   "metadata": {},
   "source": [
    "Nous allons dans cette partie réalisé un clustering à l'aide d'un clustering Spectral. Pour cela veuillez étudiez la documentation à la page: https://scikit-learn.org/stable/modules/generated/sklearn.cluster.SpectralClustering.html\n",
    "\n",
    "Ecrivez un code fessant le clustering spectral de données en utilisant comme `eigen_solver` l'algorithme `arpack` et comme `affinity` un graphe des plus proches voisins. Nous visualiserons le résultat dans la question suivante."
   ]
  },
  {
   "cell_type": "code",
   "execution_count": null,
   "metadata": {
    "deletable": false,
    "nbgrader": {
     "cell_type": "code",
     "checksum": "867409d7b5258f0f1198bfc67a837e94",
     "grade": false,
     "grade_id": "cell-5b13672dda87be27",
     "locked": false,
     "schema_version": 3,
     "solution": true,
     "task": false
    }
   },
   "outputs": [],
   "source": [
    "def get_spectral_clustering(X):\n",
    "    '''\n",
    "    :param X: données d'apprentissage\n",
    "    :return : un clustering spectral sur les données X\n",
    "    '''\n",
    "    # YOUR CODE HERE\n",
    "    raise NotImplementedError()\n",
    "    return spectre\n"
   ]
  },
  {
   "cell_type": "code",
   "execution_count": null,
   "metadata": {
    "deletable": false,
    "editable": false,
    "nbgrader": {
     "cell_type": "code",
     "checksum": "b0b4205c9dae354fb5655930853f102b",
     "grade": true,
     "grade_id": "cell-3de4b461204c1b4d",
     "locked": true,
     "points": 1,
     "schema_version": 3,
     "solution": false,
     "task": false
    }
   },
   "outputs": [],
   "source": [
    "# Ce bloc permet de valider votre code. Vous ne devez pas le modifier.  \n",
    "try:\n",
    "    X_ellipse = gen_pts_3cluster_ellipse()\n",
    "    _spectral_ = get_spectral_clustering(X_ellipse)\n",
    "    \n",
    "    np.testing.assert_equal(type(_spectral_),sklearn.cluster._spectral.SpectralClustering,err_msg=\"\\033[93m {}\\033[00m\" .format('Test 1 : l\\'objet retourné par la fonction get_GMM n\\'est pas correct.'))\n",
    "    try:\n",
    "        assert 'labels_' in _spectral_.__dict__ \n",
    "    except Exception as e: \n",
    "        raise AssertionError(\"\\033[93m {}\\033[00m\" .format(\"Test 2 : L'algorithme spectral n'a pas été appris.\"))\n",
    "except Exception as e: \n",
    "    print(\"\\033[91m {}\\033[00m\" .format('KO - Au moins un test n\\'est pas validé')) \n",
    "    print('Information sur le test non valide:')\n",
    "    print(e)\n",
    "    raise e\n",
    "else:\n",
    "    print(\"\\033[92m {}\\033[00m\" .format('Ok - Tous les tests sont validés.')) \n",
    "    "
   ]
  },
  {
   "cell_type": "markdown",
   "metadata": {},
   "source": [
    "Affichez les points avec une couleur différent en fonction du label prédit par l'algorithme spectral. Les labels prédis sont stocké dans l'attribut `labels_`."
   ]
  },
  {
   "cell_type": "code",
   "execution_count": null,
   "metadata": {
    "deletable": false,
    "nbgrader": {
     "cell_type": "code",
     "checksum": "d9fb36cce802ce292e095b201f90d9e4",
     "grade": true,
     "grade_id": "cell-7fabb2360762e34f",
     "locked": false,
     "points": 1,
     "schema_version": 3,
     "solution": true,
     "task": false
    }
   },
   "outputs": [],
   "source": [
    "# YOUR CODE HERE\n",
    "raise NotImplementedError()"
   ]
  },
  {
   "cell_type": "markdown",
   "metadata": {},
   "source": [
    "Nous allons maintenant générer un nouveau ensemble de données en utilisant le code ci-dessous."
   ]
  },
  {
   "cell_type": "code",
   "execution_count": null,
   "metadata": {
    "deletable": false,
    "editable": false,
    "nbgrader": {
     "cell_type": "code",
     "checksum": "82284a31b97d257a696be78d87049080",
     "grade": false,
     "grade_id": "cell-a35bfbcd4ce84590",
     "locked": true,
     "schema_version": 3,
     "solution": false,
     "task": false
    }
   },
   "outputs": [],
   "source": [
    "def gen_2_moons():\n",
    "    n_samples = 1500\n",
    "    noisy_moons = data.make_moons(n_samples=n_samples, noise=.05)\n",
    "    X = skl.preprocessing.StandardScaler().fit_transform(noisy_moons[0])\n",
    "    labels = noisy_moons[1]\n",
    "    \n",
    "    return X,labels\n",
    "\n",
    "X_moons,labels_moons = gen_2_moons()"
   ]
  },
  {
   "cell_type": "markdown",
   "metadata": {},
   "source": [
    "Affichez les nouvelles données"
   ]
  },
  {
   "cell_type": "code",
   "execution_count": null,
   "metadata": {
    "deletable": false,
    "nbgrader": {
     "cell_type": "code",
     "checksum": "f0068526b954952a1321aed14c2207a5",
     "grade": true,
     "grade_id": "cell-8a42502c63b99b6b",
     "locked": false,
     "points": 1,
     "schema_version": 3,
     "solution": true,
     "task": false
    }
   },
   "outputs": [],
   "source": [
    "# YOUR CODE HERE\n",
    "raise NotImplementedError()"
   ]
  },
  {
   "cell_type": "markdown",
   "metadata": {},
   "source": [
    "Appliquez les différentes méthodes de clustering vu dans ce TP aux données de `X_moons`."
   ]
  },
  {
   "cell_type": "code",
   "execution_count": null,
   "metadata": {
    "deletable": false,
    "nbgrader": {
     "cell_type": "code",
     "checksum": "fda1cacf233ac53e2461025e0cd4112e",
     "grade": true,
     "grade_id": "cell-ff8ac55e1e7ddbe7",
     "locked": false,
     "points": 1,
     "schema_version": 3,
     "solution": true,
     "task": false
    }
   },
   "outputs": [],
   "source": [
    "# YOUR CODE HERE\n",
    "raise NotImplementedError()"
   ]
  },
  {
   "cell_type": "markdown",
   "metadata": {},
   "source": [
    "5 - Programmation de l'algorithme des K-Moyennes\n",
    "-----"
   ]
  },
  {
   "cell_type": "markdown",
   "metadata": {},
   "source": [
    "L'objectif de cette question est de recoder une fonction analogue à celle que vous avez utiliser avec `scikit-learn`. Vous n'êtes donc pas autorisé à utiliser la librairie `scikit-learn` dans cette partie. Votre solution ne doit utiliser que les libraires `numpy` et `scipy`."
   ]
  },
  {
   "cell_type": "markdown",
   "metadata": {},
   "source": [
    "Écrivez une fonction *initCentre* qui prend le nombre de centre en paramètre, le nombre de dimension des centres (2 dans les exemples précédent) et retourne des centres tirés selon une loi uniforme entre 0 et 1. Cela correspondra à l’initialisation de l’algorithme."
   ]
  },
  {
   "cell_type": "code",
   "execution_count": null,
   "metadata": {
    "deletable": false,
    "nbgrader": {
     "cell_type": "code",
     "checksum": "ed814659c581e0965c57767cf980007f",
     "grade": false,
     "grade_id": "cell-ca33ac053562c060",
     "locked": false,
     "schema_version": 3,
     "solution": true,
     "task": false
    }
   },
   "outputs": [],
   "source": [
    "def initCentre(n,d=2):\n",
    "    '''\n",
    "    :param n: nombre de centre\n",
    "    :param d: dimension de chaque centre\n",
    "    :return : Retourne n centre de dimension d initialisé aléatoirement selon une loi uniforme\n",
    "    '''\n",
    "    # YOUR CODE HERE\n",
    "    raise NotImplementedError()"
   ]
  },
  {
   "cell_type": "code",
   "execution_count": null,
   "metadata": {
    "deletable": false,
    "editable": false,
    "nbgrader": {
     "cell_type": "code",
     "checksum": "defbcb40ba098709af777c54963a46fd",
     "grade": true,
     "grade_id": "cell-889feb1c50683bea",
     "locked": true,
     "points": 1,
     "schema_version": 3,
     "solution": false,
     "task": false
    }
   },
   "outputs": [],
   "source": [
    "# Ce bloc permet de valider votre code. Vous ne devez pas le modifier.  \n",
    "try:\n",
    "    centre = initCentre(10,5)\n",
    "    np.testing.assert_equal(centre.shape,(10,5),err_msg=\"\\033[93m {}\\033[00m\" .format('Test 1 : Les dimensions des centres généres sont incorrect.'))\n",
    "    \n",
    "except Exception as e: \n",
    "    print(\"\\033[91m {}\\033[00m\" .format('KO - Au moins un test n\\'est pas validé')) \n",
    "    print('Information sur le test non valide:')\n",
    "    print(e)\n",
    "    raise e\n",
    "else:\n",
    "    print(\"\\033[92m {}\\033[00m\" .format('Ok - Tous les tests sont validés.')) "
   ]
  },
  {
   "cell_type": "markdown",
   "metadata": {},
   "source": [
    "Faites une fonction `association` qui prend en argument des points et des centres et qui retourne l’association entre chaque point et le numéro du centre le plus proche. Pour réaliser cette fonction, vous pouez utiliser la fonction `cdist` de `scipy` (https://docs.scipy.org/doc/scipy/reference/generated/scipy.spatial.distance.cdist.html) . "
   ]
  },
  {
   "cell_type": "code",
   "execution_count": null,
   "metadata": {
    "deletable": false,
    "nbgrader": {
     "cell_type": "code",
     "checksum": "4cc97b2a48e08aff3ba7c2e843fc0add",
     "grade": false,
     "grade_id": "cell-7cdcffe6e47b96a8",
     "locked": false,
     "schema_version": 3,
     "solution": true,
     "task": false
    }
   },
   "outputs": [],
   "source": [
    "def association(p,c):\n",
    "    '''\n",
    "    :param p: des points\n",
    "    :param c: des centres\n",
    "    :return: l'association de chaque point au centre le plus proch.\n",
    "    '''\n",
    "    # YOUR CODE HERE\n",
    "    raise NotImplementedError()"
   ]
  },
  {
   "cell_type": "code",
   "execution_count": null,
   "metadata": {
    "deletable": false,
    "editable": false,
    "nbgrader": {
     "cell_type": "code",
     "checksum": "b4a7616f4b32e852e4d33a8ab4c59053",
     "grade": true,
     "grade_id": "cell-1f3bca787d79e1d9",
     "locked": true,
     "points": 1,
     "schema_version": 3,
     "solution": false,
     "task": false
    }
   },
   "outputs": [],
   "source": [
    "# Ce bloc permet de valider votre code. Vous ne devez pas le modifier.  \n",
    "try:\n",
    "    _centre_ = initCentre(10,5)\n",
    "    _p_ = np.random.randn(100,5)\n",
    "    _asso_ = association(_p_,_centre_) \n",
    "    np.testing.assert_equal(_asso_.shape,(100,),err_msg=\"\\033[93m {}\\033[00m\" .format('Test 1 : Il doit y avoir une seule association pour chaque point.'))\n",
    "    np.testing.assert_equal(_asso_.dtype,np.int64,err_msg=\"\\033[93m {}\\033[00m\" .format('Test 2 : Les associations doivent être des entiers.'))\n",
    "    \n",
    "except Exception as e: \n",
    "    print(\"\\033[91m {}\\033[00m\" .format('KO - Au moins un test n\\'est pas validé')) \n",
    "    print('Information sur le test non valide:')\n",
    "    print(e)\n",
    "    raise e\n",
    "else:\n",
    "    print(\"\\033[92m {}\\033[00m\" .format('Ok - Tous les tests sont validés.')) \n",
    "    "
   ]
  },
  {
   "cell_type": "markdown",
   "metadata": {},
   "source": [
    "Faites une fonction `updateCentres` qui prend des points, leurs associations à des centres, le nombre de centre et qui retourne la position des nouveauy centres en fonction des associations.\n",
    "Pour chaque centre vous calculerez le centre moyen des points qui lui ont été associé.  Si aucun point n’a été assigné à ce centre, vous en tirez un nouveau aléatoirement entre 0 et 1. \n",
    "\n",
    "Même si cela est faisable sans, vous pouvez utiliser une boucle for et un seul if pour cette question. "
   ]
  },
  {
   "cell_type": "code",
   "execution_count": null,
   "metadata": {
    "deletable": false,
    "nbgrader": {
     "cell_type": "code",
     "checksum": "68222ebb2e510a50f6a406070e2a612b",
     "grade": false,
     "grade_id": "cell-8e8dc6438de4a733",
     "locked": false,
     "schema_version": 3,
     "solution": true,
     "task": false
    }
   },
   "outputs": [],
   "source": [
    "def updateCentres(p,a,nbCenter):\n",
    "    # YOUR CODE HERE\n",
    "    raise NotImplementedError()"
   ]
  },
  {
   "cell_type": "code",
   "execution_count": null,
   "metadata": {
    "deletable": false,
    "nbgrader": {
     "cell_type": "code",
     "checksum": "7d92ebe148eafa9fe7853599a43300d1",
     "grade": false,
     "grade_id": "cell-a205fe2a4446f9a1",
     "locked": false,
     "schema_version": 3,
     "solution": true,
     "task": false
    }
   },
   "outputs": [],
   "source": [
    "#BONUS: solution sans for et sans if\n",
    "# YOUR CODE HERE\n",
    "raise NotImplementedError()"
   ]
  },
  {
   "cell_type": "code",
   "execution_count": null,
   "metadata": {
    "deletable": false,
    "editable": false,
    "nbgrader": {
     "cell_type": "code",
     "checksum": "51d53bd9c197b019151b19ee2ec0536f",
     "grade": true,
     "grade_id": "cell-9c4d551d0a54ce7b",
     "locked": true,
     "points": 2,
     "schema_version": 3,
     "solution": false,
     "task": false
    }
   },
   "outputs": [],
   "source": [
    "\n",
    "# Ce bloc permet de valider votre code. Vous ne devez pas le modifier.  \n",
    "try:\n",
    "    _centre_ = initCentre(10,5)\n",
    "    _centre_[4,:] = _centre_[1,:]\n",
    "    _p_ = np.random.randn(100,5)\n",
    "    _asso_ = association(_p_,_centre_) \n",
    "    new_c = updateCentres(_p_,_asso_,10) \n",
    "    np.testing.assert_equal(new_c.shape[0],10,err_msg=\"\\033[93m {}\\033[00m\" .format('Test 1 : Le nombre de centres générés n\\'est pas correct'))\n",
    "    np.testing.assert_equal(new_c.shape[1],5,err_msg=\"\\033[93m {}\\033[00m\" .format('Test 2 : La dimension des centres générés n\\'est pas correct'))\n",
    "    np.testing.assert_equal(1e-3 < np.sum((new_c[1,:]-new_c[4,:])**2),True,err_msg=\"\\033[93m {}\\033[00m\" .format('Test 3 : Il est possible que la gestion des centres ayant aucun point soit incorrect.'))    \n",
    "    \n",
    "except Exception as e: \n",
    "    print(\"\\033[91m {}\\033[00m\" .format('KO - Au moins un test n\\'est pas validé')) \n",
    "    print('Information sur le test non valide:')\n",
    "    print(e)\n",
    "    raise e\n",
    "else:\n",
    "    print(\"\\033[92m {}\\033[00m\" .format('Ok - Tous les tests sont validés.')) \n",
    "    \n",
    "\n"
   ]
  },
  {
   "cell_type": "markdown",
   "metadata": {},
   "source": [
    "Créez une fonction *kmeans* implémentant l’algorithme de K-moyennes. Cette fonction prendra comme argument les points d’apprentissage, le nombre de cluster recherché et le nombre d’itération de l’algorithme. Elle retournera les centres trouvés. Vous utiliserez une boucle for pour chaque itération ainsi que les fonctions : *initCentre*, *association* et *updateCentres*."
   ]
  },
  {
   "cell_type": "code",
   "execution_count": null,
   "metadata": {
    "deletable": false,
    "nbgrader": {
     "cell_type": "code",
     "checksum": "3e776b481480c034d228717feafec9e0",
     "grade": true,
     "grade_id": "cell-dceadd54bc91f225",
     "locked": false,
     "points": 1,
     "schema_version": 3,
     "solution": true,
     "task": false
    }
   },
   "outputs": [],
   "source": [
    "def kmeans(x,nbCenter,nIteration):\n",
    "    # YOUR CODE HERE\n",
    "    raise NotImplementedError()"
   ]
  },
  {
   "cell_type": "code",
   "execution_count": null,
   "metadata": {},
   "outputs": [],
   "source": []
  }
 ],
 "metadata": {
  "kernelspec": {
   "display_name": "Python 3 (ipykernel)",
   "language": "python",
   "name": "python3"
  },
  "language_info": {
   "codemirror_mode": {
    "name": "ipython",
    "version": 3
   },
   "file_extension": ".py",
   "mimetype": "text/x-python",
   "name": "python",
   "nbconvert_exporter": "python",
   "pygments_lexer": "ipython3",
   "version": "3.10.5"
  }
 },
 "nbformat": 4,
 "nbformat_minor": 4
}
